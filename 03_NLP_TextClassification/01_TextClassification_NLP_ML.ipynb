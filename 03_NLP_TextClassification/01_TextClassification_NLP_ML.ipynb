{
 "cells": [
  {
   "cell_type": "markdown",
   "metadata": {},
   "source": [
    "# Text Classification with the 20 newsgroups dataset"
   ]
  },
  {
   "cell_type": "markdown",
   "metadata": {},
   "source": [
    "**Objective:**<br />\n",
    "\n",
    "- In this notebook, I will implement all the functions required to build a multiclass classification model to classify texts.\n",
    "\n",
    "**After this code:**<br />\n",
    "\n",
    "- I'll have a trained model to predict texts in four categories. For this, I used mainly `sklearn` package.\n",
    "\n",
    "\n",
    "Let's get started!"
   ]
  },
  {
   "cell_type": "markdown",
   "metadata": {},
   "source": [
    "## 1 - Packages\n",
    "\n",
    "Let's first import all the packages that you will need during this code.\n",
    "\n",
    "- **scikit-learn** is a free machine learning library for Python.\n",
    "- **numPy** is a Python library used for working with arrays. It also has functions for working in domain of linear algebra, fourier transform, and matrices.\n",
    "- **matplotlib** is a comprehensive library for creating static, animated, and interactive visualizations in Python.\n",
    "- **itertools** is a module in python, it is used to iterate over data structures that can be stepped over using a for-loop. Such data structures are also known as iterables. This module incorporates functions that utilize computational resources efficiently."
   ]
  },
  {
   "cell_type": "code",
   "execution_count": 1,
   "metadata": {},
   "outputs": [],
   "source": [
    "from sklearn.datasets import fetch_20newsgroups\n",
    "from sklearn.feature_extraction.text import TfidfVectorizer\n",
    "from sklearn.naive_bayes import MultinomialNB\n",
    "from sklearn.svm import SVC\n",
    "from sklearn.ensemble import RandomForestClassifier\n",
    "from sklearn.ensemble import GradientBoostingClassifier\n",
    "from sklearn.ensemble import VotingClassifier\n",
    "from sklearn import metrics\n",
    "import numpy as np\n",
    "import matplotlib.pyplot as plt\n",
    "from itertools import product"
   ]
  },
  {
   "cell_type": "markdown",
   "metadata": {},
   "source": [
    "## 2 - Import data"
   ]
  },
  {
   "cell_type": "markdown",
   "metadata": {},
   "source": [
    "In this example, I will use one dataset from sklearn, [The 20 newsgroups dataset](https://scikit-learn.org/0.19/datasets/twenty_newsgroups.html).\n",
    "This dataset comprises around 18000 newsgroups posts on 20 topics split in two subsets: one for training and the other one for testing. The split between the train and test set is based upon a messages posted before and after a specific date.\n",
    "\n",
    "For this example, I will use only four categories (`rec.autos`, `sci.electronics`, `comp.graphics`, `alt.atheism`,`sci.space`)."
   ]
  },
  {
   "cell_type": "code",
   "execution_count": 2,
   "metadata": {},
   "outputs": [
    {
     "name": "stdout",
     "output_type": "stream",
     "text": [
      "Wall time: 1.93 s\n"
     ]
    }
   ],
   "source": [
    "%%time\n",
    "# Define categories that I will use\n",
    "categories = ['rec.autos', 'sci.electronics', 'comp.graphics', 'alt.atheism','sci.space']\n",
    "\n",
    "# Importing training set\n",
    "data_train = fetch_20newsgroups(subset='train',\n",
    "                                categories=categories,\n",
    "                                shuffle=True,\n",
    "                                random_state=2017,\n",
    "                                remove=('headers','footers','quotes'))\n",
    "\n",
    "# Importing test set\n",
    "data_test = fetch_20newsgroups(subset='test',\n",
    "                                categories=categories,\n",
    "                                shuffle=True,\n",
    "                                random_state=2017,\n",
    "                                remove=('headers','footers','quotes'))"
   ]
  },
  {
   "cell_type": "markdown",
   "metadata": {},
   "source": [
    "## 3 - Split into train and test"
   ]
  },
  {
   "cell_type": "code",
   "execution_count": 3,
   "metadata": {},
   "outputs": [
    {
     "data": {
      "text/plain": [
       "['data', 'filenames', 'target_names', 'target', 'DESCR']"
      ]
     },
     "execution_count": 3,
     "metadata": {},
     "output_type": "execute_result"
    }
   ],
   "source": [
    "# Investigating what was imported \n",
    "list(data_train)"
   ]
  },
  {
   "cell_type": "code",
   "execution_count": 4,
   "metadata": {},
   "outputs": [
    {
     "name": "stdout",
     "output_type": "stream",
     "text": [
      "Train Dataset\n",
      "2842 documents\n",
      "5 categories\n"
     ]
    }
   ],
   "source": [
    "# training set\n",
    "X_train = data_train.data\n",
    "y_train = data_train.target\n",
    "\n",
    "print(\"Train Dataset\")\n",
    "print(\"%d documents\" % len(data_train.data))\n",
    "print(\"%d categories\" % len(data_train.target_names))"
   ]
  },
  {
   "cell_type": "code",
   "execution_count": 5,
   "metadata": {},
   "outputs": [
    {
     "name": "stdout",
     "output_type": "stream",
     "text": [
      "Test Dataset\n",
      "1891 documents\n",
      "5 categories\n"
     ]
    }
   ],
   "source": [
    "# test set\n",
    "X_test = data_test.data\n",
    "y_test = data_test.target\n",
    "\n",
    "print(\"Test Dataset\")\n",
    "print(\"%d documents\" % len(data_test.data))\n",
    "print(\"%d categories\" % len(data_test.target_names))"
   ]
  },
  {
   "cell_type": "code",
   "execution_count": 6,
   "metadata": {},
   "outputs": [
    {
     "name": "stdout",
     "output_type": "stream",
     "text": [
      "Classification: rec.autos ( 0 )\n",
      "Does any one know if the 6551 is timing/pin compatible with the 6551.. \n",
      "It seems the 6551 has in iheirent bug with cts/rts handshaking and i need\n",
      "a suitable pin replacement to put in my serial card... possibly a buffered\n",
      "version perhaps?\n",
      "\n",
      "\n"
     ]
    }
   ],
   "source": [
    "# Example of data of \"rec.autos\"\n",
    "num_example = 90\n",
    "print('Classification:', categories[y_test[num_example]],'(', y_test[num_example], ')')\n",
    "print(data_train.data[num_example])"
   ]
  },
  {
   "cell_type": "code",
   "execution_count": 7,
   "metadata": {},
   "outputs": [
    {
     "name": "stdout",
     "output_type": "stream",
     "text": [
      "Classification: sci.electronics ( 1 )\n",
      "\n",
      "  The commercial uses of a transportation system between already-settled-\n",
      "and-civilized areas are obvious.  Spaceflight is NOT in this position.\n",
      "The correct analogy is not with aviation of the '30's, but the long\n",
      "transocean voyages of the Age of Discovery.  It didn't require gov't to\n",
      "fund these as long as something was known about the potential for profit\n",
      "at the destination.  In practice, some were gov't funded, some were private.\n",
      "But there was no way that any wise investor would spend a large amount\n",
      "of money on a very risky investment with no idea of the possible payoff.\n",
      "  I am sure that a thriving spaceflight industry will eventually develop,\n",
      "and large numbers of people will live and work off-Earth.  But if you ask\n",
      "me for specific justifications other than the increased resource base, I\n",
      "can't give them.  We just don't know enough.  The launch rate demanded by\n",
      "existing space industries is just too low to bring costs down much, and\n",
      "we are very much in the dark about what the revolutionary new space industries\n",
      "will be, when they will practical, how much will have to be invested to\n",
      "start them, etc.\n",
      "\n"
     ]
    }
   ],
   "source": [
    "# Example of data of \"sci.electronics\"\n",
    "num_example = 1\n",
    "print('Classification:', categories[y_test[num_example]],'(', y_test[num_example], ')')\n",
    "print(data_train.data[num_example])"
   ]
  },
  {
   "cell_type": "code",
   "execution_count": 8,
   "metadata": {
    "scrolled": false
   },
   "outputs": [
    {
     "name": "stdout",
     "output_type": "stream",
     "text": [
      "Classification: comp.graphics ( 2 )\n",
      "\n",
      "\tI just went through this mess in New Jersey (I'm still waiting for a\n",
      "refund as well), namely, that the original company made a mistake and left me\n",
      "in the lurch.  My recourse was through NJ's insurance dept. Office of Consumer\n",
      "Protection.  You should have a similar office in your state.  Make use of it.\n",
      "\n",
      "Good luck,\n"
     ]
    }
   ],
   "source": [
    "# Example of data of \"comp.graphics\"\n",
    "num_example = 20\n",
    "print('Classification:', categories[y_test[num_example]],'(', y_test[num_example], ')')\n",
    "print(data_train.data[num_example])"
   ]
  },
  {
   "cell_type": "code",
   "execution_count": 9,
   "metadata": {},
   "outputs": [
    {
     "name": "stdout",
     "output_type": "stream",
     "text": [
      "Classification: alt.atheism ( 3 )\n",
      "\n",
      "No.  No.  NOOO!!!\n",
      "\n",
      "The ground (green) wire is for safety.  No current is supposed to flow in it\n",
      "under normal conditions.  This means that there's normally no voltage drop in\n",
      "it either.  It is supposed to be safe to touch the ground wire... even if\n",
      "you're grounded in some other way at the same time.  \n",
      "\n",
      "The neutral (white) wire is, as Dave Vanderbyl correctly said, the return for\n",
      "the hot wire.  Since current flows in it, there's a voltage drop.  If you\n",
      "plug a heavy load into a properly-wired grounded outlet, you can commonly \n",
      "measure a volt or so of difference between neutral and ground.  \n",
      "\n",
      "They are supposed to be connected together at the breaker panel... but nowhere,\n",
      "repeat NOwhere, else.  (Well, almost.  There are strange exceptions for things\n",
      "like sub-panels.)\n",
      "\n",
      "What you CAN do if you want three-prong outlets without additional wiring is \n",
      "to use a GFCI outlet (or breaker, but the outlet will be cheaper).  In fact,\n",
      "depending on where you are putting your new outlet(s), a GFCI may be *required*.\n",
      "\n",
      "There is a FAQ on electrical wiring, posted regularly to rec.woodworking and\n",
      "news.answers.  It goes into great detail on these issues (including GFCIs) and\n",
      "you should probably read it before asking any more questions.  I'll mail a copy\n",
      "to you, append a copy here, and will ask the writers to cross-post it here in\n",
      "the future. \n"
     ]
    }
   ],
   "source": [
    "# Example of data of \"alt.atheism\"\n",
    "num_example = 93\n",
    "print('Classification:', categories[y_test[num_example]],'(', y_test[num_example], ')')\n",
    "print(data_train.data[num_example])"
   ]
  },
  {
   "cell_type": "code",
   "execution_count": 10,
   "metadata": {},
   "outputs": [
    {
     "name": "stdout",
     "output_type": "stream",
     "text": [
      "Classification: sci.space ( 4 )\n",
      "\n",
      "\n",
      "Ya, he cut me off on 128 the other day, he drives like a crazy person.\n",
      "I'd have to say he's responsible for most accidents, they really should\n",
      "pull his licence.\n",
      "\n",
      "-Steve\n",
      "\n"
     ]
    }
   ],
   "source": [
    "# Example of data of \"sci.space\"\n",
    "num_example = 1025\n",
    "print('Classification:', categories[y_test[num_example]],'(', y_test[num_example], ')')\n",
    "print(data_train.data[num_example])"
   ]
  },
  {
   "cell_type": "markdown",
   "metadata": {},
   "source": [
    "## 4 - Feature Extraction"
   ]
  },
  {
   "cell_type": "markdown",
   "metadata": {},
   "source": [
    "For this study, I extract [TF-IDF](https://en.wikipedia.org/wiki/Tf%E2%80%93idf) vectors of unigram tokens. TF-IDF (_term frequency–inverse document frequency_), is a numerical statistic that is intended to reflect how important a word is to a document in a collection. The TF-IDF value increases proportionally to the number of times a word appears in the document and is offset by the number of documents in the corpus that contain the word, which helps to adjust for the fact that some words appear more frequently in general."
   ]
  },
  {
   "cell_type": "code",
   "execution_count": 11,
   "metadata": {},
   "outputs": [],
   "source": [
    "vectorizer = TfidfVectorizer(sublinear_tf=True,\n",
    "                             smooth_idf=True,\n",
    "                             max_df=0.5,\n",
    "                             ngram_range=(1,2),\n",
    "                             stop_words='english')"
   ]
  },
  {
   "cell_type": "code",
   "execution_count": 12,
   "metadata": {},
   "outputs": [
    {
     "name": "stdout",
     "output_type": "stream",
     "text": [
      "Train Dataset\n",
      "Number of samples: 2842, number of features: 219812\n"
     ]
    }
   ],
   "source": [
    "X_train = vectorizer.fit_transform(X_train)\n",
    "\n",
    "print(\"Train Dataset\")\n",
    "print(\"Number of samples: %d, number of features: %d\" % X_train.shape)"
   ]
  },
  {
   "cell_type": "code",
   "execution_count": 13,
   "metadata": {},
   "outputs": [
    {
     "name": "stdout",
     "output_type": "stream",
     "text": [
      "Test Dataset\n",
      "Number of samples: 1891, number of features: 219812\n"
     ]
    }
   ],
   "source": [
    "X_test = vectorizer.transform(X_test)\n",
    "\n",
    "print(\"Test Dataset\")\n",
    "print(\"Number of samples: %d, number of features: %d\" % X_test.shape)"
   ]
  },
  {
   "cell_type": "code",
   "execution_count": 43,
   "metadata": {},
   "outputs": [
    {
     "data": {
      "text/plain": [
       "['analog scope',\n",
       " 'analog sf',\n",
       " 'analog signal',\n",
       " 'analog simpson',\n",
       " 'analog speedo',\n",
       " 'analog switch',\n",
       " 'analog switches',\n",
       " 'analog time',\n",
       " 'analog timer',\n",
       " 'analog trip']"
      ]
     },
     "execution_count": 43,
     "metadata": {},
     "output_type": "execute_result"
    }
   ],
   "source": [
    "# It will give you the list of feature names. As an example, I put few here.\n",
    "#vectorizer.get_feature_names()\n",
    "vectorizer.get_feature_names()[19000:19010]"
   ]
  },
  {
   "cell_type": "code",
   "execution_count": 48,
   "metadata": {},
   "outputs": [
    {
     "data": {
      "text/plain": [
       "[('hi', 93494),\n",
       " ('interested', 102742),\n",
       " ('rayshade', 160398),\n",
       " ('00', 0),\n",
       " ('managed', 121310),\n",
       " ('make', 120637),\n",
       " ('chessboard', 40430),\n",
       " ('unfortunately', 204164),\n",
       " ('knight', 109022),\n",
       " ('horse', 95237)]"
      ]
     },
     "execution_count": 48,
     "metadata": {},
     "output_type": "execute_result"
    }
   ],
   "source": [
    "# It will give you a dict with feature names as keys and their index in the matrix produced as values.\n",
    "# As an example, I put few here.\n",
    "#vectorizer.vocabulary_\n",
    "list(vectorizer.vocabulary_.items())[:10]"
   ]
  },
  {
   "cell_type": "code",
   "execution_count": 16,
   "metadata": {},
   "outputs": [],
   "source": [
    "# It is one way to see this as a dataset. It will use much memory (over 3.1 GiB)\n",
    "#pd.DataFrame(X_test.toarray(), columns=vectorizer.get_feature_names())"
   ]
  },
  {
   "cell_type": "markdown",
   "metadata": {},
   "source": [
    "## 5 - Machine Learning"
   ]
  },
  {
   "cell_type": "code",
   "execution_count": 17,
   "metadata": {},
   "outputs": [],
   "source": [
    "# Print the confusion matrix\n",
    "def plot_confusion_matrix(cm, classes=['Not Fraud', 'Fraud'],\n",
    "                          normalize=False,\n",
    "                          title='Fraud Confusion matrix',\n",
    "                          cmap=plt.cm.Blues):\n",
    "    \"\"\"\n",
    "    This function prints and plots the confusion matrix.\n",
    "    Normalization can be applied by setting `normalize=True`.\n",
    "    From:\n",
    "        http://scikit-learn.org/stable/auto_examples/model_selection/plot_confusion_matrix.html#sphx-glr-auto-\n",
    "        examples-model-selection-plot-confusion-matrix-py\n",
    "    \"\"\"\n",
    "    if normalize:\n",
    "        cm = cm.astype('float') / cm.sum(axis=1)[:, np.newaxis]\n",
    "        print(\"Normalized confusion matrix\")\n",
    "    else:\n",
    "        print('Confusion matrix, without normalization')\n",
    "\n",
    "    plt.imshow(cm, interpolation='nearest', cmap=cmap)\n",
    "    plt.title(title)\n",
    "    plt.colorbar()\n",
    "    tick_marks = np.arange(len(classes))\n",
    "    plt.xticks(tick_marks, classes, rotation=45)\n",
    "    plt.yticks(tick_marks, classes)\n",
    "\n",
    "    fmt = '.2f' if normalize else 'd'\n",
    "    thresh = cm.max() / 2.\n",
    "    for i, j in product(range(cm.shape[0]), range(cm.shape[1])):\n",
    "        plt.text(j, i, format(cm[i, j], fmt),\n",
    "                 horizontalalignment=\"center\",\n",
    "                 color=\"white\" if cm[i, j] > thresh else \"black\")\n",
    "\n",
    "    plt.tight_layout()\n",
    "    plt.ylabel('True label')\n",
    "    plt.xlabel('Predicted label')\n",
    "    plt.show()"
   ]
  },
  {
   "cell_type": "markdown",
   "metadata": {},
   "source": [
    "### 5.1 - Naive Bayes Classifier\n",
    "\n",
    "A Naive Bayes classifier is a simple probabilistic classifier based on applying Bayes' theorem (from Bayesian\n",
    "statistics) with strong (naive) independence assumptions."
   ]
  },
  {
   "cell_type": "code",
   "execution_count": 18,
   "metadata": {},
   "outputs": [
    {
     "name": "stdout",
     "output_type": "stream",
     "text": [
      "Wall time: 32.9 ms\n"
     ]
    }
   ],
   "source": [
    "%%time\n",
    "clf_NB = MultinomialNB()\n",
    "clf_NB = clf_NB.fit(X_train, y_train)"
   ]
  },
  {
   "cell_type": "code",
   "execution_count": 19,
   "metadata": {},
   "outputs": [],
   "source": [
    "y_train_pred = clf_NB.predict(X_train)\n",
    "y_test_pred = clf_NB.predict(X_test)"
   ]
  },
  {
   "cell_type": "code",
   "execution_count": 20,
   "metadata": {},
   "outputs": [
    {
     "name": "stdout",
     "output_type": "stream",
     "text": [
      "Classification Report - Train\n",
      "Train accuracy score: 0.9757213230119635\n",
      "              precision    recall  f1-score   support\n",
      "\n",
      "           0       1.00      0.97      0.98       480\n",
      "           1       0.99      0.97      0.98       584\n",
      "           2       0.90      1.00      0.95       594\n",
      "           3       1.00      0.97      0.98       591\n",
      "           4       1.00      0.97      0.98       593\n",
      "\n",
      "    accuracy                           0.98      2842\n",
      "   macro avg       0.98      0.98      0.98      2842\n",
      "weighted avg       0.98      0.98      0.98      2842\n",
      "\n",
      "Classification Report - Test\n",
      "Test accuracy score: 0.8043363299841354\n",
      "              precision    recall  f1-score   support\n",
      "\n",
      "           0       0.93      0.70      0.80       319\n",
      "           1       0.79      0.87      0.83       389\n",
      "           2       0.76      0.89      0.82       396\n",
      "           3       0.87      0.69      0.77       393\n",
      "           4       0.75      0.85      0.80       394\n",
      "\n",
      "    accuracy                           0.80      1891\n",
      "   macro avg       0.82      0.80      0.80      1891\n",
      "weighted avg       0.82      0.80      0.80      1891\n",
      "\n"
     ]
    }
   ],
   "source": [
    "# Classification Report\n",
    "print(\"Classification Report - Train\")\n",
    "print(\"Train accuracy score:\", metrics.accuracy_score(y_train, y_train_pred))\n",
    "print(metrics.classification_report(y_train, y_train_pred))\n",
    "\n",
    "print(\"Classification Report - Test\")\n",
    "print(\"Test accuracy score:\", metrics.accuracy_score(y_test, y_test_pred))\n",
    "print(metrics.classification_report(y_test, y_test_pred))"
   ]
  },
  {
   "cell_type": "code",
   "execution_count": 21,
   "metadata": {},
   "outputs": [
    {
     "name": "stdout",
     "output_type": "stream",
     "text": [
      "Confusion matrix, without normalization\n"
     ]
    },
    {
     "data": {
      "image/png": "[encoded data removed]",
      "text/plain": [
       "<Figure size 432x288 with 2 Axes>"
      ]
     },
     "metadata": {
      "needs_background": "light"
     },
     "output_type": "display_data"
    }
   ],
   "source": [
    "# Create a confusion matrix\n",
    "km_cm = metrics.confusion_matrix(y_test, y_test_pred)\n",
    "\n",
    "# Plot the confusion matrix in a figure to visualize results \n",
    "plot_confusion_matrix(km_cm, classes=categories)"
   ]
  },
  {
   "cell_type": "code",
   "execution_count": 22,
   "metadata": {},
   "outputs": [
    {
     "name": "stdout",
     "output_type": "stream",
     "text": [
      "[alt.atheism]: said atheism does religion say just think don people god\n",
      "[comp.graphics]: hi looking does program know image file files thanks graphics\n",
      "[rec.autos]: know dealer don engine good new just like cars car\n",
      "[sci.electronics]: good circuit thanks don used power does know like use\n",
      "[sci.space]: shuttle earth think launch moon orbit just like nasa space\n"
     ]
    }
   ],
   "source": [
    "# Let’s take a look at what the most informative features are:\n",
    "def show_top10(classifier, vectorizer, categories):\n",
    "    feature_names = np.asarray(vectorizer.get_feature_names())\n",
    "    for i, category in enumerate(categories):\n",
    "        top10 = np.argsort(classifier.coef_[i])[-10:]\n",
    "        print(\"[%s]: %s\" % (category, \" \".join(feature_names[top10])))\n",
    "\n",
    "show_top10(clf_NB, vectorizer, data_train.target_names)"
   ]
  },
  {
   "cell_type": "markdown",
   "metadata": {},
   "source": [
    "### 5.2 - Support Vector Machines\n",
    "\n",
    "Support vector machines (SVMs) are a set of supervised learning methods used for classification, regression and outliers detection. The advantages of support vector machines are: Effective in high dimensional spaces. Still effective in cases where number of dimensions is greater than the number of samples."
   ]
  },
  {
   "cell_type": "code",
   "execution_count": 23,
   "metadata": {},
   "outputs": [
    {
     "name": "stdout",
     "output_type": "stream",
     "text": [
      "Wall time: 6.3 s\n"
     ]
    }
   ],
   "source": [
    "%%time\n",
    "svm_clf = SVC(kernel='rbf', gamma=1.0, C=1000, random_state=13)\n",
    "svm_clf = svm_clf.fit(X_train, y_train)"
   ]
  },
  {
   "cell_type": "code",
   "execution_count": 24,
   "metadata": {},
   "outputs": [],
   "source": [
    "y_train_pred = svm_clf.predict(X_train)\n",
    "y_test_pred = svm_clf.predict(X_test)"
   ]
  },
  {
   "cell_type": "code",
   "execution_count": 25,
   "metadata": {},
   "outputs": [
    {
     "name": "stdout",
     "output_type": "stream",
     "text": [
      "Classification Report - Train\n",
      "Train accuracy score: 0.9781843771991555\n",
      "              precision    recall  f1-score   support\n",
      "\n",
      "           0       1.00      0.97      0.99       480\n",
      "           1       1.00      0.97      0.99       584\n",
      "           2       0.91      1.00      0.95       594\n",
      "           3       1.00      0.97      0.99       591\n",
      "           4       1.00      0.97      0.99       593\n",
      "\n",
      "    accuracy                           0.98      2842\n",
      "   macro avg       0.98      0.98      0.98      2842\n",
      "weighted avg       0.98      0.98      0.98      2842\n",
      "\n",
      "Classification Report - Test\n",
      "Test accuracy score: 0.7974616604970914\n",
      "              precision    recall  f1-score   support\n",
      "\n",
      "           0       0.88      0.75      0.81       319\n",
      "           1       0.80      0.84      0.82       389\n",
      "           2       0.77      0.87      0.82       396\n",
      "           3       0.78      0.73      0.75       393\n",
      "           4       0.79      0.79      0.79       394\n",
      "\n",
      "    accuracy                           0.80      1891\n",
      "   macro avg       0.80      0.80      0.80      1891\n",
      "weighted avg       0.80      0.80      0.80      1891\n",
      "\n"
     ]
    }
   ],
   "source": [
    "# Classification Report\n",
    "print(\"Classification Report - Train\")\n",
    "print(\"Train accuracy score:\", metrics.accuracy_score(y_train, y_train_pred))\n",
    "print(metrics.classification_report(y_train, y_train_pred))\n",
    "\n",
    "print(\"Classification Report - Test\")\n",
    "print(\"Test accuracy score:\", metrics.accuracy_score(y_test, y_test_pred))\n",
    "print(metrics.classification_report(y_test, y_test_pred))"
   ]
  },
  {
   "cell_type": "code",
   "execution_count": 26,
   "metadata": {
    "scrolled": true
   },
   "outputs": [
    {
     "name": "stdout",
     "output_type": "stream",
     "text": [
      "Confusion matrix, without normalization\n"
     ]
    },
    {
     "data": {
      "image/png": "[encoded data removed]",
      "text/plain": [
       "<Figure size 432x288 with 2 Axes>"
      ]
     },
     "metadata": {
      "needs_background": "light"
     },
     "output_type": "display_data"
    }
   ],
   "source": [
    "# Create a confusion matrix\n",
    "km_cm = metrics.confusion_matrix(y_test, y_test_pred)\n",
    "\n",
    "# Plot the confusion matrix in a figure to visualize results \n",
    "plot_confusion_matrix(km_cm, classes=categories)"
   ]
  },
  {
   "cell_type": "markdown",
   "metadata": {},
   "source": [
    "### 5.3 - Random Forest\n",
    "\n",
    "The random forest is a classification algorithm consisting of many decisions trees. It uses bagging and feature randomness when building each individual tree to try to create an uncorrelated forest of trees whose prediction by committee is more accurate than that of any individual tree."
   ]
  },
  {
   "cell_type": "code",
   "execution_count": 27,
   "metadata": {},
   "outputs": [
    {
     "name": "stdout",
     "output_type": "stream",
     "text": [
      "Wall time: 45.7 s\n"
     ]
    }
   ],
   "source": [
    "%%time\n",
    "rf_clf = RandomForestClassifier(criterion='gini',\n",
    "                                #max_depth=8,\n",
    "                                n_estimators=1000,\n",
    "                                n_jobs=-1,\n",
    "                                random_state=13)\n",
    "rf_clf = rf_clf.fit(X_train, y_train)"
   ]
  },
  {
   "cell_type": "code",
   "execution_count": 28,
   "metadata": {},
   "outputs": [],
   "source": [
    "y_train_pred = rf_clf.predict(X_train)\n",
    "y_test_pred = rf_clf.predict(X_test)"
   ]
  },
  {
   "cell_type": "code",
   "execution_count": 29,
   "metadata": {},
   "outputs": [
    {
     "name": "stdout",
     "output_type": "stream",
     "text": [
      "Classification Report - Train\n",
      "Train accuracy score: 0.9781843771991555\n",
      "              precision    recall  f1-score   support\n",
      "\n",
      "           0       1.00      0.97      0.99       480\n",
      "           1       1.00      0.97      0.99       584\n",
      "           2       0.91      1.00      0.95       594\n",
      "           3       1.00      0.97      0.99       591\n",
      "           4       1.00      0.97      0.99       593\n",
      "\n",
      "    accuracy                           0.98      2842\n",
      "   macro avg       0.98      0.98      0.98      2842\n",
      "weighted avg       0.98      0.98      0.98      2842\n",
      "\n",
      "Classification Report - Test\n",
      "Test accuracy score: 0.7440507667900582\n",
      "              precision    recall  f1-score   support\n",
      "\n",
      "           0       0.82      0.72      0.77       319\n",
      "           1       0.72      0.84      0.77       389\n",
      "           2       0.63      0.88      0.74       396\n",
      "           3       0.79      0.58      0.67       393\n",
      "           4       0.86      0.70      0.77       394\n",
      "\n",
      "    accuracy                           0.74      1891\n",
      "   macro avg       0.76      0.74      0.74      1891\n",
      "weighted avg       0.76      0.74      0.74      1891\n",
      "\n"
     ]
    }
   ],
   "source": [
    "# Classification Report\n",
    "print(\"Classification Report - Train\")\n",
    "print(\"Train accuracy score:\", metrics.accuracy_score(y_train, y_train_pred))\n",
    "print(metrics.classification_report(y_train, y_train_pred))\n",
    "\n",
    "print(\"Classification Report - Test\")\n",
    "print(\"Test accuracy score:\", metrics.accuracy_score(y_test, y_test_pred))\n",
    "print(metrics.classification_report(y_test, y_test_pred))"
   ]
  },
  {
   "cell_type": "code",
   "execution_count": 30,
   "metadata": {
    "scrolled": false
   },
   "outputs": [
    {
     "name": "stdout",
     "output_type": "stream",
     "text": [
      "Confusion matrix, without normalization\n"
     ]
    },
    {
     "data": {
      "image/png": "[encoded data removed]",
      "text/plain": [
       "<Figure size 432x288 with 2 Axes>"
      ]
     },
     "metadata": {
      "needs_background": "light"
     },
     "output_type": "display_data"
    }
   ],
   "source": [
    "# Create a confusion matrix\n",
    "km_cm = metrics.confusion_matrix(y_test, y_test_pred)\n",
    "\n",
    "# Plot the confusion matrix in a figure to visualize results \n",
    "plot_confusion_matrix(km_cm, classes=categories)"
   ]
  },
  {
   "cell_type": "markdown",
   "metadata": {},
   "source": [
    "### 5.4 - Gradient Boosting\n",
    "\n",
    "Gradient boosting is a machine learning technique for regression and classification problems that produce a prediction model in the form of an ensemble of weak prediction models. The idea of gradient boosting is that you can combine a group of relatively weak prediction models to build a stronger prediction model."
   ]
  },
  {
   "cell_type": "code",
   "execution_count": 31,
   "metadata": {},
   "outputs": [
    {
     "name": "stdout",
     "output_type": "stream",
     "text": [
      "Wall time: 1min 25s\n"
     ]
    }
   ],
   "source": [
    "%%time\n",
    "gb_clf = GradientBoostingClassifier(learning_rate=0.001, n_estimators=100, random_state=13)\n",
    "gb_clf = gb_clf.fit(X_train, y_train)"
   ]
  },
  {
   "cell_type": "code",
   "execution_count": 32,
   "metadata": {},
   "outputs": [],
   "source": [
    "y_train_pred = gb_clf.predict(X_train)\n",
    "y_test_pred = gb_clf.predict(X_test)"
   ]
  },
  {
   "cell_type": "code",
   "execution_count": 33,
   "metadata": {},
   "outputs": [
    {
     "name": "stdout",
     "output_type": "stream",
     "text": [
      "Classification Report - Train\n",
      "Train accuracy score: 0.5566502463054187\n",
      "              precision    recall  f1-score   support\n",
      "\n",
      "           0       0.96      0.34      0.50       480\n",
      "           1       0.91      0.44      0.59       584\n",
      "           2       0.93      0.51      0.66       594\n",
      "           3       0.32      0.95      0.48       591\n",
      "           4       0.94      0.50      0.65       593\n",
      "\n",
      "    accuracy                           0.56      2842\n",
      "   macro avg       0.81      0.55      0.58      2842\n",
      "weighted avg       0.80      0.56      0.58      2842\n",
      "\n",
      "Classification Report - Test\n",
      "Test accuracy score: 0.5314648334214701\n",
      "              precision    recall  f1-score   support\n",
      "\n",
      "           0       0.96      0.34      0.51       319\n",
      "           1       0.85      0.48      0.61       389\n",
      "           2       0.92      0.46      0.61       396\n",
      "           3       0.31      0.91      0.46       393\n",
      "           4       0.86      0.43      0.57       394\n",
      "\n",
      "    accuracy                           0.53      1891\n",
      "   macro avg       0.78      0.52      0.55      1891\n",
      "weighted avg       0.77      0.53      0.55      1891\n",
      "\n"
     ]
    }
   ],
   "source": [
    "# Classification Report\n",
    "print(\"Classification Report - Train\")\n",
    "print(\"Train accuracy score:\", metrics.accuracy_score(y_train, y_train_pred))\n",
    "print(metrics.classification_report(y_train, y_train_pred))\n",
    "\n",
    "print(\"Classification Report - Test\")\n",
    "print(\"Test accuracy score:\", metrics.accuracy_score(y_test, y_test_pred))\n",
    "print(metrics.classification_report(y_test, y_test_pred))"
   ]
  },
  {
   "cell_type": "code",
   "execution_count": 34,
   "metadata": {
    "scrolled": true
   },
   "outputs": [
    {
     "name": "stdout",
     "output_type": "stream",
     "text": [
      "Confusion matrix, without normalization\n"
     ]
    },
    {
     "data": {
      "image/png": "[encoded data removed]",
      "text/plain": [
       "<Figure size 432x288 with 2 Axes>"
      ]
     },
     "metadata": {
      "needs_background": "light"
     },
     "output_type": "display_data"
    }
   ],
   "source": [
    "# Create a confusion matrix\n",
    "km_cm = metrics.confusion_matrix(y_test, y_test_pred)\n",
    "\n",
    "# Plot the confusion matrix in a figure to visualize results \n",
    "plot_confusion_matrix(km_cm, classes=categories)"
   ]
  },
  {
   "cell_type": "markdown",
   "metadata": {},
   "source": [
    "### 5.5 - Voting Classifier\n",
    "\n",
    "A Voting Classifier is a machine learning model that trains on an ensemble of numerous models and predicts an output (class) based on their highest probability of chosen class as the output.\n",
    "It simply aggregates the findings of each classifier passed into Voting Classifier and predicts the output class based on the highest majority of voting."
   ]
  },
  {
   "cell_type": "code",
   "execution_count": 35,
   "metadata": {},
   "outputs": [
    {
     "name": "stdout",
     "output_type": "stream",
     "text": [
      "Wall time: 1min 33s\n"
     ]
    },
    {
     "data": {
      "text/plain": [
       "VotingClassifier(estimators=[('nb', MultinomialNB()),\n",
       "                             ('svc', SVC(C=1000, gamma=1.0, random_state=13)),\n",
       "                             ('rf', RandomForestClassifier(random_state=13)),\n",
       "                             ('gb',\n",
       "                              GradientBoostingClassifier(random_state=13))])"
      ]
     },
     "execution_count": 35,
     "metadata": {},
     "output_type": "execute_result"
    }
   ],
   "source": [
    "%%time\n",
    "# Define the three classifiers to use in the ensemble\n",
    "clf1 = MultinomialNB()\n",
    "clf2 = SVC(kernel='rbf', gamma=1.0, C=1000, random_state=13)\n",
    "clf3 = RandomForestClassifier(random_state=13)\n",
    "clf4 = GradientBoostingClassifier(random_state=13)\n",
    "\n",
    "# Combine the classifiers in the ensemble model\n",
    "ensemble_model = VotingClassifier(estimators=[('nb', clf1), ('svc', clf2), ('rf', clf3), ('gb', clf4)], voting='hard')\n",
    "ensemble_model.fit(X_train, y_train)"
   ]
  },
  {
   "cell_type": "code",
   "execution_count": 36,
   "metadata": {},
   "outputs": [],
   "source": [
    "y_train_pred = ensemble_model.predict(X_train)\n",
    "y_test_pred = ensemble_model.predict(X_test)"
   ]
  },
  {
   "cell_type": "code",
   "execution_count": 37,
   "metadata": {},
   "outputs": [
    {
     "name": "stdout",
     "output_type": "stream",
     "text": [
      "Classification Report - Train\n",
      "Train accuracy score: 0.9781843771991555\n",
      "              precision    recall  f1-score   support\n",
      "\n",
      "           0       1.00      0.97      0.99       480\n",
      "           1       1.00      0.97      0.99       584\n",
      "           2       0.91      1.00      0.95       594\n",
      "           3       1.00      0.97      0.99       591\n",
      "           4       1.00      0.97      0.99       593\n",
      "\n",
      "    accuracy                           0.98      2842\n",
      "   macro avg       0.98      0.98      0.98      2842\n",
      "weighted avg       0.98      0.98      0.98      2842\n",
      "\n",
      "Classification Report - Test\n",
      "Test accuracy score: 0.7895293495505024\n",
      "              precision    recall  f1-score   support\n",
      "\n",
      "           0       0.85      0.76      0.81       319\n",
      "           1       0.77      0.86      0.81       389\n",
      "           2       0.74      0.88      0.80       396\n",
      "           3       0.79      0.68      0.73       393\n",
      "           4       0.83      0.76      0.79       394\n",
      "\n",
      "    accuracy                           0.79      1891\n",
      "   macro avg       0.80      0.79      0.79      1891\n",
      "weighted avg       0.79      0.79      0.79      1891\n",
      "\n"
     ]
    }
   ],
   "source": [
    "# Classification Report\n",
    "print(\"Classification Report - Train\")\n",
    "print(\"Train accuracy score:\", metrics.accuracy_score(y_train, y_train_pred))\n",
    "print(metrics.classification_report(y_train, y_train_pred))\n",
    "\n",
    "print(\"Classification Report - Test\")\n",
    "print(\"Test accuracy score:\", metrics.accuracy_score(y_test, y_test_pred))\n",
    "print(metrics.classification_report(y_test, y_test_pred))"
   ]
  },
  {
   "cell_type": "code",
   "execution_count": 38,
   "metadata": {},
   "outputs": [
    {
     "name": "stdout",
     "output_type": "stream",
     "text": [
      "Confusion matrix, without normalization\n"
     ]
    },
    {
     "data": {
      "image/png": "[encoded data removed]",
      "text/plain": [
       "<Figure size 432x288 with 2 Axes>"
      ]
     },
     "metadata": {
      "needs_background": "light"
     },
     "output_type": "display_data"
    }
   ],
   "source": [
    "# Create a confusion matrix\n",
    "km_cm = metrics.confusion_matrix(y_test, y_test_pred)\n",
    "\n",
    "# Plot the confusion matrix in a figure to visualize results \n",
    "plot_confusion_matrix(km_cm, classes=categories)"
   ]
  },
  {
   "cell_type": "markdown",
   "metadata": {},
   "source": [
    "-----------------------"
   ]
  }
 ],
 "metadata": {
  "kernelspec": {
   "display_name": "Python 3",
   "language": "python",
   "name": "python3"
  },
  "language_info": {
   "codemirror_mode": {
    "name": "ipython",
    "version": 3
   },
   "file_extension": ".py",
   "mimetype": "text/x-python",
   "name": "python",
   "nbconvert_exporter": "python",
   "pygments_lexer": "ipython3",
   "version": "3.8.5"
  }
 },
 "nbformat": 4,
 "nbformat_minor": 4
}
