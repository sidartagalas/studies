{
 "cells": [
  {
   "cell_type": "markdown",
   "metadata": {},
   "source": [
    "# Review Classification: Deep Learning App"
   ]
  },
  {
   "cell_type": "markdown",
   "metadata": {},
   "source": [
    "First of all, this project is based on the dataset provided for the following Kaggle competition: [Amazon Reviews: Unlocked Mobile Phones](https://www.kaggle.com/PromptCloudHQ/amazon-reviews-unlocked-mobile-phones)"
   ]
  },
  {
   "cell_type": "markdown",
   "metadata": {},
   "source": [
    "**Objective:**<br />\n",
    "\n",
    "- In this notebook, I will implement all the functions required to build a deep learning model to find trends and patterns to determine which sentiment customers wrote in their reviews.\n",
    "\n",
    "**After this code:**<br />\n",
    "\n",
    "- I'll have a trained model to predict texts in categories (negative, neutral, positive). For this, I used mainly `keras` package.\n",
    "\n",
    "\n",
    "Let's get started!"
   ]
  },
  {
   "cell_type": "markdown",
   "metadata": {},
   "source": [
    "## 1 - Packages\n",
    "\n",
    "Let's first import all the packages that you will need during this code.\n",
    "\n",
    "- **pandas** is a fast, powerful, flexible and easy to use open source data analysis and manipulation tool, built on top of the Python programming language.\n",
    "- **numPy** is a Python library used for working with arrays. It also has functions for working in domain of linear algebra, fourier transform, and matrices.\n",
    "- **matplotlib** is a comprehensive library for creating static, animated, and interactive visualizations in Python.\n",
    "- **seaborn** is a Python data visualization library based on matplotlib. It provides a high-level interface for drawing attractive and informative statistical graphics.\n",
    "- **string** provides additional tools to manipulate strings.\n",
    "- **re** provides full support for Perl-like regular expressions in Python.\n",
    "- **scikit-learn** is a free machine learning library for Python.\n",
    "- **tensorFlow** is a Python library for fast numerical computing created and released by Google. It is a foundation library that can be used to create Deep Learning models directly or by using wrapper libraries that simplify the process built on top of TensorFlow.\n",
    "- **Keras** is a powerful and easy-to-use free open source Python library for developing and evaluating deep learning models."
   ]
  },
  {
   "cell_type": "code",
   "execution_count": 25,
   "metadata": {},
   "outputs": [],
   "source": [
    "import pandas as pd\n",
    "import numpy as np\n",
    "import matplotlib.pyplot as plt\n",
    "import seaborn as sns\n",
    "import string, re\n",
    "\n",
    "from sklearn import metrics\n",
    "from sklearn.model_selection import train_test_split\n",
    "\n",
    "import tensorflow as tf\n",
    "from keras.preprocessing.text import Tokenizer\n",
    "from keras.preprocessing.sequence import pad_sequences\n",
    "from keras.models import Sequential, load_model\n",
    "from keras import layers\n",
    "from keras.callbacks import ModelCheckpoint"
   ]
  },
  {
   "cell_type": "markdown",
   "metadata": {},
   "source": [
    "## 2 - Import data and sampling"
   ]
  },
  {
   "cell_type": "code",
   "execution_count": 2,
   "metadata": {},
   "outputs": [
    {
     "data": {
      "text/plain": [
       "(413840, 6)"
      ]
     },
     "execution_count": 2,
     "metadata": {},
     "output_type": "execute_result"
    }
   ],
   "source": [
    "df = pd.read_csv('src/Amazon_Unlocked_Mobile.csv')\n",
    "df.shape"
   ]
  },
  {
   "cell_type": "code",
   "execution_count": 3,
   "metadata": {},
   "outputs": [],
   "source": [
    "df = df.sample(100000, random_state=13)[['Rating', 'Reviews']] # Selecting 100k sample\n",
    "df['Reviews'] = df['Reviews'].fillna('')"
   ]
  },
  {
   "cell_type": "code",
   "execution_count": 4,
   "metadata": {},
   "outputs": [
    {
     "name": "stdout",
     "output_type": "stream",
     "text": [
      "<class 'pandas.core.frame.DataFrame'>\n",
      "Int64Index: 100000 entries, 13741 to 372650\n",
      "Data columns (total 2 columns):\n",
      " #   Column   Non-Null Count   Dtype \n",
      "---  ------   --------------   ----- \n",
      " 0   Rating   100000 non-null  int64 \n",
      " 1   Reviews  100000 non-null  object\n",
      "dtypes: int64(1), object(1)\n",
      "memory usage: 2.3+ MB\n"
     ]
    }
   ],
   "source": [
    "df.info()"
   ]
  },
  {
   "cell_type": "code",
   "execution_count": 5,
   "metadata": {},
   "outputs": [
    {
     "data": {
      "text/html": [
       "<div>\n",
       "<style scoped>\n",
       "    .dataframe tbody tr th:only-of-type {\n",
       "        vertical-align: middle;\n",
       "    }\n",
       "\n",
       "    .dataframe tbody tr th {\n",
       "        vertical-align: top;\n",
       "    }\n",
       "\n",
       "    .dataframe thead th {\n",
       "        text-align: right;\n",
       "    }\n",
       "</style>\n",
       "<table border=\"1\" class=\"dataframe\">\n",
       "  <thead>\n",
       "    <tr style=\"text-align: right;\">\n",
       "      <th></th>\n",
       "      <th>Rating</th>\n",
       "      <th>Reviews</th>\n",
       "    </tr>\n",
       "  </thead>\n",
       "  <tbody>\n",
       "    <tr>\n",
       "      <th>288436</th>\n",
       "      <td>5</td>\n",
       "      <td>Can't live without</td>\n",
       "    </tr>\n",
       "    <tr>\n",
       "      <th>173461</th>\n",
       "      <td>5</td>\n",
       "      <td>Seller delivered in the 2 days as he said so a...</td>\n",
       "    </tr>\n",
       "    <tr>\n",
       "      <th>285735</th>\n",
       "      <td>5</td>\n",
       "      <td>Great, thanks! Just what I needed. Easy purchase.</td>\n",
       "    </tr>\n",
       "    <tr>\n",
       "      <th>131950</th>\n",
       "      <td>1</td>\n",
       "      <td>It was great until it began to shutdown withou...</td>\n",
       "    </tr>\n",
       "    <tr>\n",
       "      <th>372650</th>\n",
       "      <td>2</td>\n",
       "      <td>The phone that was sold to me as unlocked is a...</td>\n",
       "    </tr>\n",
       "  </tbody>\n",
       "</table>\n",
       "</div>"
      ],
      "text/plain": [
       "        Rating                                            Reviews\n",
       "288436       5                                 Can't live without\n",
       "173461       5  Seller delivered in the 2 days as he said so a...\n",
       "285735       5  Great, thanks! Just what I needed. Easy purchase.\n",
       "131950       1  It was great until it began to shutdown withou...\n",
       "372650       2  The phone that was sold to me as unlocked is a..."
      ]
     },
     "execution_count": 5,
     "metadata": {},
     "output_type": "execute_result"
    }
   ],
   "source": [
    "df.tail() # Showing few examples"
   ]
  },
  {
   "cell_type": "code",
   "execution_count": 6,
   "metadata": {},
   "outputs": [
    {
     "data": {
      "text/plain": [
       "1    17427\n",
       "2     5921\n",
       "3     7706\n",
       "4    14823\n",
       "5    54123\n",
       "Name: Rating, dtype: int64"
      ]
     },
     "execution_count": 6,
     "metadata": {},
     "output_type": "execute_result"
    }
   ],
   "source": [
    "df['Rating'].value_counts(sort=False) # Verifying how many reviews for each rating"
   ]
  },
  {
   "cell_type": "markdown",
   "metadata": {},
   "source": [
    "## 3 - Preprocessing data"
   ]
  },
  {
   "cell_type": "code",
   "execution_count": 7,
   "metadata": {},
   "outputs": [],
   "source": [
    "# Creating function to preprocess texts\n",
    "def clean_text(text):\n",
    "    \n",
    "    # Remove new line characters\n",
    "    text = re.sub('\\s+', ' ', text)\n",
    "    \n",
    "    # Remove punctuation\n",
    "    preprocessed_text = text.translate(str.maketrans('', '', string.punctuation))\n",
    "\n",
    "    return preprocessed_text\n",
    "\n",
    "# Creating function to grouping ratings\n",
    "def target_sentiment(text):\n",
    "    new_y=[]\n",
    "    if (text in [1,2]):## 2 - Import data and sampling\n",
    "        return 0 # Negative\n",
    "    elif (text in [4,5]):\n",
    "        return 2 # Positive\n",
    "    else:\n",
    "        return 1 # neutral"
   ]
  },
  {
   "cell_type": "code",
   "execution_count": 8,
   "metadata": {},
   "outputs": [
    {
     "name": "stdout",
     "output_type": "stream",
     "text": [
      "Wall time: 1.52 s\n"
     ]
    },
    {
     "data": {
      "text/html": [
       "<div>\n",
       "<style scoped>\n",
       "    .dataframe tbody tr th:only-of-type {\n",
       "        vertical-align: middle;\n",
       "    }\n",
       "\n",
       "    .dataframe tbody tr th {\n",
       "        vertical-align: top;\n",
       "    }\n",
       "\n",
       "    .dataframe thead th {\n",
       "        text-align: right;\n",
       "    }\n",
       "</style>\n",
       "<table border=\"1\" class=\"dataframe\">\n",
       "  <thead>\n",
       "    <tr style=\"text-align: right;\">\n",
       "      <th></th>\n",
       "      <th>Rating</th>\n",
       "      <th>Reviews</th>\n",
       "      <th>reviews_preproc</th>\n",
       "      <th>new_rating</th>\n",
       "    </tr>\n",
       "  </thead>\n",
       "  <tbody>\n",
       "    <tr>\n",
       "      <th>13741</th>\n",
       "      <td>4</td>\n",
       "      <td>Muy Bueno</td>\n",
       "      <td>Muy Bueno</td>\n",
       "      <td>2</td>\n",
       "    </tr>\n",
       "    <tr>\n",
       "      <th>372328</th>\n",
       "      <td>5</td>\n",
       "      <td>Sleek phone. Looks great! A good size not too ...</td>\n",
       "      <td>Sleek phone Looks great A good size not too la...</td>\n",
       "      <td>2</td>\n",
       "    </tr>\n",
       "    <tr>\n",
       "      <th>148548</th>\n",
       "      <td>5</td>\n",
       "      <td>GOOD</td>\n",
       "      <td>GOOD</td>\n",
       "      <td>2</td>\n",
       "    </tr>\n",
       "    <tr>\n",
       "      <th>215726</th>\n",
       "      <td>5</td>\n",
       "      <td>Excellent</td>\n",
       "      <td>Excellent</td>\n",
       "      <td>2</td>\n",
       "    </tr>\n",
       "    <tr>\n",
       "      <th>208857</th>\n",
       "      <td>5</td>\n",
       "      <td>excellent I recommend it 100 %</td>\n",
       "      <td>excellent I recommend it 100</td>\n",
       "      <td>2</td>\n",
       "    </tr>\n",
       "    <tr>\n",
       "      <th>73358</th>\n",
       "      <td>5</td>\n",
       "      <td>AWESOMEEEE</td>\n",
       "      <td>AWESOMEEEE</td>\n",
       "      <td>2</td>\n",
       "    </tr>\n",
       "    <tr>\n",
       "      <th>258210</th>\n",
       "      <td>5</td>\n",
       "      <td>Very good phone. I bought it for my mom and it...</td>\n",
       "      <td>Very good phone I bought it for my mom and it ...</td>\n",
       "      <td>2</td>\n",
       "    </tr>\n",
       "    <tr>\n",
       "      <th>12520</th>\n",
       "      <td>1</td>\n",
       "      <td>i hate it the screen was messed up an everythi...</td>\n",
       "      <td>i hate it the screen was messed up an everythi...</td>\n",
       "      <td>0</td>\n",
       "    </tr>\n",
       "    <tr>\n",
       "      <th>312657</th>\n",
       "      <td>1</td>\n",
       "      <td>We purchased this phone for our overseas trips...</td>\n",
       "      <td>We purchased this phone for our overseas trips...</td>\n",
       "      <td>0</td>\n",
       "    </tr>\n",
       "    <tr>\n",
       "      <th>181492</th>\n",
       "      <td>5</td>\n",
       "      <td>Just as described. Super fast delivery. Daught...</td>\n",
       "      <td>Just as described Super fast delivery Daughter...</td>\n",
       "      <td>2</td>\n",
       "    </tr>\n",
       "  </tbody>\n",
       "</table>\n",
       "</div>"
      ],
      "text/plain": [
       "        Rating                                            Reviews  \\\n",
       "13741        4                                          Muy Bueno   \n",
       "372328       5  Sleek phone. Looks great! A good size not too ...   \n",
       "148548       5                                               GOOD   \n",
       "215726       5                                          Excellent   \n",
       "208857       5                     excellent I recommend it 100 %   \n",
       "73358        5                                         AWESOMEEEE   \n",
       "258210       5  Very good phone. I bought it for my mom and it...   \n",
       "12520        1  i hate it the screen was messed up an everythi...   \n",
       "312657       1  We purchased this phone for our overseas trips...   \n",
       "181492       5  Just as described. Super fast delivery. Daught...   \n",
       "\n",
       "                                          reviews_preproc  new_rating  \n",
       "13741                                           Muy Bueno           2  \n",
       "372328  Sleek phone Looks great A good size not too la...           2  \n",
       "148548                                               GOOD           2  \n",
       "215726                                          Excellent           2  \n",
       "208857                      excellent I recommend it 100            2  \n",
       "73358                                          AWESOMEEEE           2  \n",
       "258210  Very good phone I bought it for my mom and it ...           2  \n",
       "12520   i hate it the screen was messed up an everythi...           0  \n",
       "312657  We purchased this phone for our overseas trips...           0  \n",
       "181492  Just as described Super fast delivery Daughter...           2  "
      ]
     },
     "execution_count": 8,
     "metadata": {},
     "output_type": "execute_result"
    }
   ],
   "source": [
    "%%time\n",
    "# Applying the created function\n",
    "df['reviews_preproc'] = df['Reviews'].apply(clean_text)\n",
    "df['new_rating'] = df['Rating'].apply(target_sentiment)\n",
    "df.head(10)"
   ]
  },
  {
   "cell_type": "code",
   "execution_count": 9,
   "metadata": {},
   "outputs": [
    {
     "data": {
      "text/plain": [
       "0    23348\n",
       "1     7706\n",
       "2    68946\n",
       "Name: new_rating, dtype: int64"
      ]
     },
     "execution_count": 9,
     "metadata": {},
     "output_type": "execute_result"
    }
   ],
   "source": [
    "df['new_rating'].value_counts(sort=False) # Verifying how many reviews for each new rating"
   ]
  },
  {
   "cell_type": "markdown",
   "metadata": {},
   "source": [
    "**Label encoding**: As the dataset is categorical, we need to convert the rating labels from Neutral, Negative and Positive to a float type that our model can understand. To achieve this task, we'll implement the to_categorical method from Keras.\n"
   ]
  },
  {
   "cell_type": "code",
   "execution_count": 10,
   "metadata": {},
   "outputs": [],
   "source": [
    "labels = tf.keras.utils.to_categorical(df['new_rating'].values, num_classes=3)"
   ]
  },
  {
   "cell_type": "code",
   "execution_count": 12,
   "metadata": {},
   "outputs": [
    {
     "name": "stdout",
     "output_type": "stream",
     "text": [
      "Wall time: 2.66 s\n"
     ]
    }
   ],
   "source": [
    "%%time\n",
    "max_words = 10000 # the maximum number of words to keep, based on word frequency.\n",
    "max_len = 500 # maximum length of all sequences. If not provided, sequences will be padded to the length of the longest individual sequence.\n",
    "\n",
    "#Data sequencing and splitting\n",
    "#We'll implement the Keras tokenizer as well as its pad_sequences method to transform our text data into 3D float data, otherwise our neural networks won't be able to be trained on it.\n",
    "\n",
    "tokenizer = Tokenizer(num_words=max_words)\n",
    "tokenizer.fit_on_texts(df['reviews_preproc'].values)\n",
    "\n",
    "sequences = tokenizer.texts_to_sequences(df['reviews_preproc'].values) # Transforms each text in texts to a sequence of integers.\n",
    "\n",
    "reviews = pad_sequences(sequences, maxlen=max_len)"
   ]
  },
  {
   "cell_type": "markdown",
   "metadata": {},
   "source": [
    "## 4 - Split into train and test"
   ]
  },
  {
   "cell_type": "code",
   "execution_count": 18,
   "metadata": {},
   "outputs": [
    {
     "name": "stdout",
     "output_type": "stream",
     "text": [
      "Train Dataset: 90000 reviews\n",
      "Test Dataset: 10000 reviews\n"
     ]
    }
   ],
   "source": [
    "X_train, X_test, y_train, y_test = train_test_split(reviews, labels, test_size=0.1, random_state= 13)\n",
    "print(\"Train Dataset: %d reviews\" % len(X_train))\n",
    "print(\"Test Dataset: %d reviews\" % len(X_test))"
   ]
  },
  {
   "cell_type": "markdown",
   "metadata": {},
   "source": [
    "## 5 - Machine Learning\n",
    "\n",
    "In the next cells I'll guide you through the process of building 2 Recurrent Neural Networks with Keras API.\n",
    "1. **Single layer LSTM network**: well-known by achieving good results in NLP tasks when the dataset is relatively small.\n",
    "2. **Bidirectional LSTM model**: More complex network and very well-known to achieve great metrics when talking about text classification.\n",
    "\n",
    "Let's see what happens."
   ]
  },
  {
   "cell_type": "markdown",
   "metadata": {},
   "source": [
    "### 5.1 - Single layer LSTM network"
   ]
  },
  {
   "cell_type": "code",
   "execution_count": 155,
   "metadata": {
    "scrolled": true
   },
   "outputs": [
    {
     "name": "stdout",
     "output_type": "stream",
     "text": [
      "WARNING:tensorflow:`period` argument is deprecated. Please use `save_freq` to specify the frequency in number of batches seen.\n",
      "Epoch 1/20\n",
      "180/180 [==============================] - ETA: 0s - loss: 0.7303 - accuracy: 0.7112\n",
      "Epoch 00001: val_accuracy improved from -inf to 0.80860, saving model to SentimentAnalysis_best_model_SingleLSTM.hdf5\n",
      "180/180 [==============================] - 112s 622ms/step - loss: 0.7303 - accuracy: 0.7112 - val_loss: 0.5144 - val_accuracy: 0.8086\n",
      "Epoch 2/20\n",
      "180/180 [==============================] - ETA: 0s - loss: 0.4497 - accuracy: 0.8405\n",
      "Epoch 00002: val_accuracy improved from 0.80860 to 0.85360, saving model to SentimentAnalysis_best_model_SingleLSTM.hdf5\n",
      "180/180 [==============================] - 112s 622ms/step - loss: 0.4497 - accuracy: 0.8405 - val_loss: 0.4155 - val_accuracy: 0.8536\n",
      "Epoch 3/20\n",
      "180/180 [==============================] - ETA: 0s - loss: 0.3884 - accuracy: 0.8632\n",
      "Epoch 00003: val_accuracy improved from 0.85360 to 0.86000, saving model to SentimentAnalysis_best_model_SingleLSTM.hdf5\n",
      "180/180 [==============================] - 112s 621ms/step - loss: 0.3884 - accuracy: 0.8632 - val_loss: 0.3904 - val_accuracy: 0.8600\n",
      "Epoch 4/20\n",
      "180/180 [==============================] - ETA: 0s - loss: 0.3576 - accuracy: 0.8715\n",
      "Epoch 00004: val_accuracy improved from 0.86000 to 0.86320, saving model to SentimentAnalysis_best_model_SingleLSTM.hdf5\n",
      "180/180 [==============================] - 112s 622ms/step - loss: 0.3576 - accuracy: 0.8715 - val_loss: 0.3740 - val_accuracy: 0.8632\n",
      "Epoch 5/20\n",
      "180/180 [==============================] - ETA: 0s - loss: 0.3422 - accuracy: 0.8760\n",
      "Epoch 00005: val_accuracy improved from 0.86320 to 0.86610, saving model to SentimentAnalysis_best_model_SingleLSTM.hdf5\n",
      "180/180 [==============================] - 112s 624ms/step - loss: 0.3422 - accuracy: 0.8760 - val_loss: 0.3658 - val_accuracy: 0.8661\n",
      "Epoch 6/20\n",
      "180/180 [==============================] - ETA: 0s - loss: 0.3273 - accuracy: 0.8813\n",
      "Epoch 00006: val_accuracy did not improve from 0.86610\n",
      "180/180 [==============================] - 112s 625ms/step - loss: 0.3273 - accuracy: 0.8813 - val_loss: 0.3624 - val_accuracy: 0.8656\n",
      "Epoch 7/20\n",
      "180/180 [==============================] - ETA: 0s - loss: 0.3172 - accuracy: 0.8845\n",
      "Epoch 00007: val_accuracy improved from 0.86610 to 0.87140, saving model to SentimentAnalysis_best_model_SingleLSTM.hdf5\n",
      "180/180 [==============================] - 111s 619ms/step - loss: 0.3172 - accuracy: 0.8845 - val_loss: 0.3595 - val_accuracy: 0.8714\n",
      "Epoch 8/20\n",
      "180/180 [==============================] - ETA: 0s - loss: 0.3067 - accuracy: 0.8884\n",
      "Epoch 00008: val_accuracy did not improve from 0.87140\n",
      "180/180 [==============================] - 112s 623ms/step - loss: 0.3067 - accuracy: 0.8884 - val_loss: 0.3583 - val_accuracy: 0.8701\n",
      "Epoch 9/20\n",
      "180/180 [==============================] - ETA: 0s - loss: 0.3002 - accuracy: 0.8918\n",
      "Epoch 00009: val_accuracy improved from 0.87140 to 0.87190, saving model to SentimentAnalysis_best_model_SingleLSTM.hdf5\n",
      "180/180 [==============================] - 111s 619ms/step - loss: 0.3002 - accuracy: 0.8918 - val_loss: 0.3556 - val_accuracy: 0.8719\n",
      "Epoch 10/20\n",
      "180/180 [==============================] - ETA: 0s - loss: 0.2935 - accuracy: 0.8931\n",
      "Epoch 00010: val_accuracy improved from 0.87190 to 0.87230, saving model to SentimentAnalysis_best_model_SingleLSTM.hdf5\n",
      "180/180 [==============================] - 112s 623ms/step - loss: 0.2935 - accuracy: 0.8931 - val_loss: 0.3599 - val_accuracy: 0.8723\n",
      "Epoch 11/20\n",
      "180/180 [==============================] - ETA: 0s - loss: 0.2880 - accuracy: 0.8956\n",
      "Epoch 00011: val_accuracy improved from 0.87230 to 0.87410, saving model to SentimentAnalysis_best_model_SingleLSTM.hdf5\n",
      "180/180 [==============================] - 112s 621ms/step - loss: 0.2880 - accuracy: 0.8956 - val_loss: 0.3560 - val_accuracy: 0.8741\n",
      "Epoch 12/20\n",
      "180/180 [==============================] - ETA: 0s - loss: 0.2819 - accuracy: 0.8988\n",
      "Epoch 00012: val_accuracy improved from 0.87410 to 0.87500, saving model to SentimentAnalysis_best_model_SingleLSTM.hdf5\n",
      "180/180 [==============================] - 112s 621ms/step - loss: 0.2819 - accuracy: 0.8988 - val_loss: 0.3532 - val_accuracy: 0.8750\n",
      "Epoch 13/20\n",
      "180/180 [==============================] - ETA: 0s - loss: 0.2755 - accuracy: 0.9011\n",
      "Epoch 00013: val_accuracy improved from 0.87500 to 0.87720, saving model to SentimentAnalysis_best_model_SingleLSTM.hdf5\n",
      "180/180 [==============================] - 111s 619ms/step - loss: 0.2755 - accuracy: 0.9011 - val_loss: 0.3578 - val_accuracy: 0.8772\n",
      "Epoch 14/20\n",
      "180/180 [==============================] - ETA: 0s - loss: 0.2714 - accuracy: 0.9029\n",
      "Epoch 00014: val_accuracy did not improve from 0.87720\n",
      "180/180 [==============================] - 112s 620ms/step - loss: 0.2714 - accuracy: 0.9029 - val_loss: 0.3561 - val_accuracy: 0.8771\n",
      "Epoch 15/20\n",
      "180/180 [==============================] - ETA: 0s - loss: 0.2679 - accuracy: 0.9049\n",
      "Epoch 00015: val_accuracy improved from 0.87720 to 0.87820, saving model to SentimentAnalysis_best_model_SingleLSTM.hdf5\n",
      "180/180 [==============================] - 112s 623ms/step - loss: 0.2679 - accuracy: 0.9049 - val_loss: 0.3543 - val_accuracy: 0.8782\n",
      "Epoch 16/20\n",
      "180/180 [==============================] - ETA: 0s - loss: 0.2641 - accuracy: 0.9061\n",
      "Epoch 00016: val_accuracy improved from 0.87820 to 0.87920, saving model to SentimentAnalysis_best_model_SingleLSTM.hdf5\n",
      "180/180 [==============================] - 112s 623ms/step - loss: 0.2641 - accuracy: 0.9061 - val_loss: 0.3558 - val_accuracy: 0.8792\n",
      "Epoch 17/20\n",
      "180/180 [==============================] - ETA: 0s - loss: 0.2586 - accuracy: 0.9078\n",
      "Epoch 00017: val_accuracy improved from 0.87920 to 0.87990, saving model to SentimentAnalysis_best_model_SingleLSTM.hdf5\n",
      "180/180 [==============================] - 112s 621ms/step - loss: 0.2586 - accuracy: 0.9078 - val_loss: 0.3642 - val_accuracy: 0.8799\n",
      "Epoch 18/20\n",
      "180/180 [==============================] - ETA: 0s - loss: 0.2561 - accuracy: 0.9095\n",
      "Epoch 00018: val_accuracy did not improve from 0.87990\n",
      "180/180 [==============================] - 112s 620ms/step - loss: 0.2561 - accuracy: 0.9095 - val_loss: 0.3661 - val_accuracy: 0.8790\n",
      "Epoch 19/20\n",
      "180/180 [==============================] - ETA: 0s - loss: 0.2524 - accuracy: 0.9121\n",
      "Epoch 00019: val_accuracy did not improve from 0.87990\n",
      "180/180 [==============================] - 112s 621ms/step - loss: 0.2524 - accuracy: 0.9121 - val_loss: 0.3590 - val_accuracy: 0.8784\n",
      "Epoch 20/20\n",
      "180/180 [==============================] - ETA: 0s - loss: 0.2486 - accuracy: 0.9125\n",
      "Epoch 00020: val_accuracy did not improve from 0.87990\n",
      "180/180 [==============================] - 112s 620ms/step - loss: 0.2486 - accuracy: 0.9125 - val_loss: 0.3582 - val_accuracy: 0.8791\n"
     ]
    }
   ],
   "source": [
    "model1 = Sequential()\n",
    "model1.add(layers.Embedding(max_words, 20)) # Turns positive integers (indexes) into dense vectors of fixed size.\n",
    "model1.add(layers.LSTM(units=15, activation='tanh', dropout=0.5))\n",
    "model1.add(layers.Dense(units=3, activation='softmax'))\n",
    "model1.compile(optimizer='adam', loss='categorical_crossentropy', metrics=['accuracy'])\n",
    "\n",
    "# Implementing model checkpoins to save the best metric and do not lose it on training.\n",
    "checkpoint1 = ModelCheckpoint(\"03models_review_classification/ReviewClassification_best_model_SingleLSTM.hdf5\",\n",
    "                              monitor='val_accuracy',\n",
    "                              verbose=1,\n",
    "                              save_best_only=True,\n",
    "                              mode='auto',\n",
    "                              period=1,\n",
    "                              save_weights_only=False)\n",
    "history1 = model1.fit(X_train, y_train,\n",
    "                     batch_size=500,\n",
    "                     epochs=20,\n",
    "                     validation_data=(X_test, y_test),\n",
    "                     callbacks=[checkpoint1])"
   ]
  },
  {
   "cell_type": "markdown",
   "metadata": {},
   "source": [
    "### 5.2 - Bidirectional LSTM model"
   ]
  },
  {
   "cell_type": "code",
   "execution_count": 157,
   "metadata": {
    "scrolled": true
   },
   "outputs": [
    {
     "name": "stdout",
     "output_type": "stream",
     "text": [
      "WARNING:tensorflow:`period` argument is deprecated. Please use `save_freq` to specify the frequency in number of batches seen.\n",
      "Epoch 1/50\n",
      "180/180 [==============================] - ETA: 0s - loss: 0.6156 - accuracy: 0.7712\n",
      "Epoch 00001: val_accuracy improved from -inf to 0.85110, saving model to SentimentAnalysis_best_model_BidirectionalLSTM.hdf5\n",
      "180/180 [==============================] - 683s 4s/step - loss: 0.6156 - accuracy: 0.7712 - val_loss: 0.4173 - val_accuracy: 0.8511\n",
      "Epoch 2/50\n",
      "180/180 [==============================] - ETA: 0s - loss: 0.3866 - accuracy: 0.8616\n",
      "Epoch 00002: val_accuracy improved from 0.85110 to 0.86300, saving model to SentimentAnalysis_best_model_BidirectionalLSTM.hdf5\n",
      "180/180 [==============================] - 667s 4s/step - loss: 0.3866 - accuracy: 0.8616 - val_loss: 0.3754 - val_accuracy: 0.8630\n",
      "Epoch 3/50\n",
      "180/180 [==============================] - ETA: 0s - loss: 0.3506 - accuracy: 0.8734\n",
      "Epoch 00003: val_accuracy improved from 0.86300 to 0.86560, saving model to SentimentAnalysis_best_model_BidirectionalLSTM.hdf5\n",
      "180/180 [==============================] - 673s 4s/step - loss: 0.3506 - accuracy: 0.8734 - val_loss: 0.3685 - val_accuracy: 0.8656\n",
      "Epoch 4/50\n",
      "180/180 [==============================] - ETA: 0s - loss: 0.3309 - accuracy: 0.8786\n",
      "Epoch 00004: val_accuracy improved from 0.86560 to 0.87140, saving model to SentimentAnalysis_best_model_BidirectionalLSTM.hdf5\n",
      "180/180 [==============================] - 680s 4s/step - loss: 0.3309 - accuracy: 0.8786 - val_loss: 0.3554 - val_accuracy: 0.8714\n",
      "Epoch 5/50\n",
      "180/180 [==============================] - ETA: 0s - loss: 0.3172 - accuracy: 0.8842\n",
      "Epoch 00005: val_accuracy improved from 0.87140 to 0.87150, saving model to SentimentAnalysis_best_model_BidirectionalLSTM.hdf5\n",
      "180/180 [==============================] - 699s 4s/step - loss: 0.3172 - accuracy: 0.8842 - val_loss: 0.3577 - val_accuracy: 0.8715\n",
      "Epoch 6/50\n",
      "180/180 [==============================] - ETA: 0s - loss: 0.3056 - accuracy: 0.8891\n",
      "Epoch 00006: val_accuracy improved from 0.87150 to 0.87570, saving model to SentimentAnalysis_best_model_BidirectionalLSTM.hdf5\n",
      "180/180 [==============================] - 687s 4s/step - loss: 0.3056 - accuracy: 0.8891 - val_loss: 0.3502 - val_accuracy: 0.8757\n",
      "Epoch 7/50\n",
      "180/180 [==============================] - ETA: 0s - loss: 0.2967 - accuracy: 0.8921\n",
      "Epoch 00007: val_accuracy improved from 0.87570 to 0.87620, saving model to SentimentAnalysis_best_model_BidirectionalLSTM.hdf5\n",
      "180/180 [==============================] - 708s 4s/step - loss: 0.2967 - accuracy: 0.8921 - val_loss: 0.3489 - val_accuracy: 0.8762\n",
      "Epoch 8/50\n",
      "180/180 [==============================] - ETA: 0s - loss: 0.2874 - accuracy: 0.8959\n",
      "Epoch 00008: val_accuracy improved from 0.87620 to 0.87810, saving model to SentimentAnalysis_best_model_BidirectionalLSTM.hdf5\n",
      "180/180 [==============================] - 674s 4s/step - loss: 0.2874 - accuracy: 0.8959 - val_loss: 0.3498 - val_accuracy: 0.8781\n",
      "Epoch 9/50\n",
      "180/180 [==============================] - ETA: 0s - loss: 0.2809 - accuracy: 0.8979\n",
      "Epoch 00009: val_accuracy improved from 0.87810 to 0.88110, saving model to SentimentAnalysis_best_model_BidirectionalLSTM.hdf5\n",
      "180/180 [==============================] - 673s 4s/step - loss: 0.2809 - accuracy: 0.8979 - val_loss: 0.3430 - val_accuracy: 0.8811\n",
      "Epoch 10/50\n",
      "180/180 [==============================] - ETA: 0s - loss: 0.2740 - accuracy: 0.9009\n",
      "Epoch 00010: val_accuracy did not improve from 0.88110\n",
      "180/180 [==============================] - 681s 4s/step - loss: 0.2740 - accuracy: 0.9009 - val_loss: 0.3462 - val_accuracy: 0.8797\n",
      "Epoch 11/50\n",
      "180/180 [==============================] - ETA: 0s - loss: 0.2657 - accuracy: 0.9049\n",
      "Epoch 00011: val_accuracy did not improve from 0.88110\n",
      "180/180 [==============================] - 682s 4s/step - loss: 0.2657 - accuracy: 0.9049 - val_loss: 0.3478 - val_accuracy: 0.8806\n",
      "Epoch 12/50\n",
      "180/180 [==============================] - ETA: 0s - loss: 0.2622 - accuracy: 0.9066\n",
      "Epoch 00012: val_accuracy did not improve from 0.88110\n",
      "180/180 [==============================] - 673s 4s/step - loss: 0.2622 - accuracy: 0.9066 - val_loss: 0.3500 - val_accuracy: 0.8809\n",
      "Epoch 13/50\n",
      "180/180 [==============================] - ETA: 0s - loss: 0.2596 - accuracy: 0.9077\n",
      "Epoch 00013: val_accuracy improved from 0.88110 to 0.88220, saving model to SentimentAnalysis_best_model_BidirectionalLSTM.hdf5\n",
      "180/180 [==============================] - 677s 4s/step - loss: 0.2596 - accuracy: 0.9077 - val_loss: 0.3477 - val_accuracy: 0.8822\n",
      "Epoch 14/50\n",
      "180/180 [==============================] - ETA: 0s - loss: 0.2527 - accuracy: 0.9105\n",
      "Epoch 00014: val_accuracy did not improve from 0.88220\n",
      "180/180 [==============================] - 679s 4s/step - loss: 0.2527 - accuracy: 0.9105 - val_loss: 0.3521 - val_accuracy: 0.8814\n",
      "Epoch 15/50\n",
      "180/180 [==============================] - ETA: 0s - loss: 0.2492 - accuracy: 0.9115\n",
      "Epoch 00015: val_accuracy did not improve from 0.88220\n",
      "180/180 [==============================] - 718s 4s/step - loss: 0.2492 - accuracy: 0.9115 - val_loss: 0.3525 - val_accuracy: 0.8815\n",
      "Epoch 16/50\n",
      "180/180 [==============================] - ETA: 0s - loss: 0.2441 - accuracy: 0.9134\n",
      "Epoch 00016: val_accuracy improved from 0.88220 to 0.88510, saving model to SentimentAnalysis_best_model_BidirectionalLSTM.hdf5\n",
      "180/180 [==============================] - 734s 4s/step - loss: 0.2441 - accuracy: 0.9134 - val_loss: 0.3487 - val_accuracy: 0.8851\n",
      "Epoch 17/50\n",
      "180/180 [==============================] - ETA: 0s - loss: 0.2422 - accuracy: 0.9147\n",
      "Epoch 00017: val_accuracy did not improve from 0.88510\n",
      "180/180 [==============================] - 673s 4s/step - loss: 0.2422 - accuracy: 0.9147 - val_loss: 0.3537 - val_accuracy: 0.8835\n",
      "Epoch 18/50\n",
      "180/180 [==============================] - ETA: 0s - loss: 0.2383 - accuracy: 0.9161\n",
      "Epoch 00018: val_accuracy improved from 0.88510 to 0.88570, saving model to SentimentAnalysis_best_model_BidirectionalLSTM.hdf5\n",
      "180/180 [==============================] - 669s 4s/step - loss: 0.2383 - accuracy: 0.9161 - val_loss: 0.3531 - val_accuracy: 0.8857\n",
      "Epoch 19/50\n",
      "180/180 [==============================] - ETA: 0s - loss: 0.2369 - accuracy: 0.9173\n",
      "Epoch 00019: val_accuracy improved from 0.88570 to 0.88610, saving model to SentimentAnalysis_best_model_BidirectionalLSTM.hdf5\n",
      "180/180 [==============================] - 672s 4s/step - loss: 0.2369 - accuracy: 0.9173 - val_loss: 0.3540 - val_accuracy: 0.8861\n",
      "Epoch 20/50\n",
      "180/180 [==============================] - ETA: 0s - loss: 0.2353 - accuracy: 0.9177\n",
      "Epoch 00020: val_accuracy did not improve from 0.88610\n",
      "180/180 [==============================] - 685s 4s/step - loss: 0.2353 - accuracy: 0.9177 - val_loss: 0.3591 - val_accuracy: 0.8855\n",
      "Epoch 21/50\n",
      "180/180 [==============================] - ETA: 0s - loss: 0.2283 - accuracy: 0.9201\n",
      "Epoch 00021: val_accuracy did not improve from 0.88610\n",
      "180/180 [==============================] - 680s 4s/step - loss: 0.2283 - accuracy: 0.9201 - val_loss: 0.3660 - val_accuracy: 0.8841\n",
      "Epoch 22/50\n",
      "180/180 [==============================] - ETA: 0s - loss: 0.2285 - accuracy: 0.9204\n",
      "Epoch 00022: val_accuracy did not improve from 0.88610\n",
      "180/180 [==============================] - 679s 4s/step - loss: 0.2285 - accuracy: 0.9204 - val_loss: 0.3616 - val_accuracy: 0.8851\n",
      "Epoch 23/50\n",
      "180/180 [==============================] - ETA: 0s - loss: 0.2301 - accuracy: 0.9194\n",
      "Epoch 00023: val_accuracy did not improve from 0.88610\n",
      "180/180 [==============================] - 680s 4s/step - loss: 0.2301 - accuracy: 0.9194 - val_loss: 0.3645 - val_accuracy: 0.8853\n",
      "Epoch 24/50\n",
      "180/180 [==============================] - ETA: 0s - loss: 0.2222 - accuracy: 0.9229\n",
      "Epoch 00024: val_accuracy did not improve from 0.88610\n",
      "180/180 [==============================] - 682s 4s/step - loss: 0.2222 - accuracy: 0.9229 - val_loss: 0.3619 - val_accuracy: 0.8846\n",
      "Epoch 25/50\n",
      "180/180 [==============================] - ETA: 0s - loss: 0.2191 - accuracy: 0.9241\n",
      "Epoch 00025: val_accuracy improved from 0.88610 to 0.88650, saving model to SentimentAnalysis_best_model_BidirectionalLSTM.hdf5\n",
      "180/180 [==============================] - 683s 4s/step - loss: 0.2191 - accuracy: 0.9241 - val_loss: 0.3605 - val_accuracy: 0.8865\n"
     ]
    },
    {
     "name": "stdout",
     "output_type": "stream",
     "text": [
      "Epoch 26/50\n",
      "180/180 [==============================] - ETA: 0s - loss: 0.2190 - accuracy: 0.9236\n",
      "Epoch 00026: val_accuracy did not improve from 0.88650\n",
      "180/180 [==============================] - 680s 4s/step - loss: 0.2190 - accuracy: 0.9236 - val_loss: 0.3629 - val_accuracy: 0.8862\n",
      "Epoch 27/50\n",
      "180/180 [==============================] - ETA: 0s - loss: 0.2142 - accuracy: 0.9255\n",
      "Epoch 00027: val_accuracy improved from 0.88650 to 0.88710, saving model to SentimentAnalysis_best_model_BidirectionalLSTM.hdf5\n",
      "180/180 [==============================] - 687s 4s/step - loss: 0.2142 - accuracy: 0.9255 - val_loss: 0.3681 - val_accuracy: 0.8871\n",
      "Epoch 28/50\n",
      "180/180 [==============================] - ETA: 0s - loss: 0.2145 - accuracy: 0.9254\n",
      "Epoch 00028: val_accuracy improved from 0.88710 to 0.88720, saving model to SentimentAnalysis_best_model_BidirectionalLSTM.hdf5\n",
      "180/180 [==============================] - 673s 4s/step - loss: 0.2145 - accuracy: 0.9254 - val_loss: 0.3650 - val_accuracy: 0.8872\n",
      "Epoch 29/50\n",
      "180/180 [==============================] - ETA: 0s - loss: 0.2116 - accuracy: 0.9256\n",
      "Epoch 00029: val_accuracy improved from 0.88720 to 0.88880, saving model to SentimentAnalysis_best_model_BidirectionalLSTM.hdf5\n",
      "180/180 [==============================] - 676s 4s/step - loss: 0.2116 - accuracy: 0.9256 - val_loss: 0.3685 - val_accuracy: 0.8888\n",
      "Epoch 30/50\n",
      "180/180 [==============================] - ETA: 0s - loss: 0.2112 - accuracy: 0.9266\n",
      "Epoch 00030: val_accuracy did not improve from 0.88880\n",
      "180/180 [==============================] - 671s 4s/step - loss: 0.2112 - accuracy: 0.9266 - val_loss: 0.3649 - val_accuracy: 0.8885\n",
      "Epoch 31/50\n",
      "180/180 [==============================] - ETA: 0s - loss: 0.2087 - accuracy: 0.9277\n",
      "Epoch 00031: val_accuracy did not improve from 0.88880\n",
      "180/180 [==============================] - 672s 4s/step - loss: 0.2087 - accuracy: 0.9277 - val_loss: 0.3594 - val_accuracy: 0.8846\n",
      "Epoch 32/50\n",
      "180/180 [==============================] - ETA: 0s - loss: 0.2057 - accuracy: 0.9283\n",
      "Epoch 00032: val_accuracy did not improve from 0.88880\n",
      "180/180 [==============================] - 674s 4s/step - loss: 0.2057 - accuracy: 0.9283 - val_loss: 0.3780 - val_accuracy: 0.8852\n",
      "Epoch 33/50\n",
      "180/180 [==============================] - ETA: 0s - loss: 0.2038 - accuracy: 0.9301\n",
      "Epoch 00033: val_accuracy did not improve from 0.88880\n",
      "180/180 [==============================] - 671s 4s/step - loss: 0.2038 - accuracy: 0.9301 - val_loss: 0.3670 - val_accuracy: 0.8884\n",
      "Epoch 34/50\n",
      "180/180 [==============================] - ETA: 0s - loss: 0.2063 - accuracy: 0.9280\n",
      "Epoch 00034: val_accuracy improved from 0.88880 to 0.88920, saving model to SentimentAnalysis_best_model_BidirectionalLSTM.hdf5\n",
      "180/180 [==============================] - 673s 4s/step - loss: 0.2063 - accuracy: 0.9280 - val_loss: 0.3787 - val_accuracy: 0.8892\n",
      "Epoch 35/50\n",
      "180/180 [==============================] - ETA: 0s - loss: 0.2011 - accuracy: 0.9306\n",
      "Epoch 00035: val_accuracy did not improve from 0.88920\n",
      "180/180 [==============================] - 675s 4s/step - loss: 0.2011 - accuracy: 0.9306 - val_loss: 0.3690 - val_accuracy: 0.8877\n",
      "Epoch 36/50\n",
      "180/180 [==============================] - ETA: 0s - loss: 0.1994 - accuracy: 0.9307\n",
      "Epoch 00036: val_accuracy improved from 0.88920 to 0.89110, saving model to SentimentAnalysis_best_model_BidirectionalLSTM.hdf5\n",
      "180/180 [==============================] - 670s 4s/step - loss: 0.1994 - accuracy: 0.9307 - val_loss: 0.3787 - val_accuracy: 0.8911\n",
      "Epoch 37/50\n",
      "180/180 [==============================] - ETA: 0s - loss: 0.1957 - accuracy: 0.9324\n",
      "Epoch 00037: val_accuracy improved from 0.89110 to 0.89120, saving model to SentimentAnalysis_best_model_BidirectionalLSTM.hdf5\n",
      "180/180 [==============================] - 668s 4s/step - loss: 0.1957 - accuracy: 0.9324 - val_loss: 0.3790 - val_accuracy: 0.8912\n",
      "Epoch 38/50\n",
      "180/180 [==============================] - ETA: 0s - loss: 0.1969 - accuracy: 0.9318\n",
      "Epoch 00038: val_accuracy did not improve from 0.89120\n",
      "180/180 [==============================] - 672s 4s/step - loss: 0.1969 - accuracy: 0.9318 - val_loss: 0.3816 - val_accuracy: 0.8901\n",
      "Epoch 39/50\n",
      "180/180 [==============================] - ETA: 0s - loss: 0.1952 - accuracy: 0.9316\n",
      "Epoch 00039: val_accuracy improved from 0.89120 to 0.89130, saving model to SentimentAnalysis_best_model_BidirectionalLSTM.hdf5\n",
      "180/180 [==============================] - 669s 4s/step - loss: 0.1952 - accuracy: 0.9316 - val_loss: 0.3797 - val_accuracy: 0.8913\n",
      "Epoch 40/50\n",
      "180/180 [==============================] - ETA: 0s - loss: 0.1939 - accuracy: 0.9335\n",
      "Epoch 00040: val_accuracy did not improve from 0.89130\n",
      "180/180 [==============================] - 671s 4s/step - loss: 0.1939 - accuracy: 0.9335 - val_loss: 0.3835 - val_accuracy: 0.8896\n",
      "Epoch 41/50\n",
      "180/180 [==============================] - ETA: 0s - loss: 0.1891 - accuracy: 0.9346\n",
      "Epoch 00041: val_accuracy did not improve from 0.89130\n",
      "180/180 [==============================] - 679s 4s/step - loss: 0.1891 - accuracy: 0.9346 - val_loss: 0.3786 - val_accuracy: 0.8882\n",
      "Epoch 42/50\n",
      "180/180 [==============================] - ETA: 0s - loss: 0.1895 - accuracy: 0.9354\n",
      "Epoch 00042: val_accuracy did not improve from 0.89130\n",
      "180/180 [==============================] - 671s 4s/step - loss: 0.1895 - accuracy: 0.9354 - val_loss: 0.3824 - val_accuracy: 0.8910\n",
      "Epoch 43/50\n",
      "180/180 [==============================] - ETA: 0s - loss: 0.1901 - accuracy: 0.9340\n",
      "Epoch 00043: val_accuracy improved from 0.89130 to 0.89170, saving model to SentimentAnalysis_best_model_BidirectionalLSTM.hdf5\n",
      "180/180 [==============================] - 675s 4s/step - loss: 0.1901 - accuracy: 0.9340 - val_loss: 0.3841 - val_accuracy: 0.8917\n",
      "Epoch 44/50\n",
      "180/180 [==============================] - ETA: 0s - loss: 0.1877 - accuracy: 0.9354\n",
      "Epoch 00044: val_accuracy did not improve from 0.89170\n",
      "180/180 [==============================] - 668s 4s/step - loss: 0.1877 - accuracy: 0.9354 - val_loss: 0.3836 - val_accuracy: 0.8907\n",
      "Epoch 45/50\n",
      "180/180 [==============================] - ETA: 0s - loss: 0.1867 - accuracy: 0.9353\n",
      "Epoch 00045: val_accuracy improved from 0.89170 to 0.89380, saving model to SentimentAnalysis_best_model_BidirectionalLSTM.hdf5\n",
      "180/180 [==============================] - 676s 4s/step - loss: 0.1867 - accuracy: 0.9353 - val_loss: 0.3824 - val_accuracy: 0.8938\n",
      "Epoch 46/50\n",
      "180/180 [==============================] - ETA: 0s - loss: 0.1861 - accuracy: 0.9364\n",
      "Epoch 00046: val_accuracy did not improve from 0.89380\n",
      "180/180 [==============================] - 691s 4s/step - loss: 0.1861 - accuracy: 0.9364 - val_loss: 0.3853 - val_accuracy: 0.8933\n",
      "Epoch 47/50\n",
      "180/180 [==============================] - ETA: 0s - loss: 0.1822 - accuracy: 0.9380\n",
      "Epoch 00047: val_accuracy did not improve from 0.89380\n",
      "180/180 [==============================] - 1089s 6s/step - loss: 0.1822 - accuracy: 0.9380 - val_loss: 0.3856 - val_accuracy: 0.8933\n",
      "Epoch 48/50\n",
      "180/180 [==============================] - ETA: 0s - loss: 0.1825 - accuracy: 0.9375\n",
      "Epoch 00048: val_accuracy did not improve from 0.89380\n",
      "180/180 [==============================] - 678s 4s/step - loss: 0.1825 - accuracy: 0.9375 - val_loss: 0.3871 - val_accuracy: 0.8933\n",
      "Epoch 49/50\n",
      "180/180 [==============================] - ETA: 0s - loss: 0.1787 - accuracy: 0.9388\n",
      "Epoch 00049: val_accuracy did not improve from 0.89380\n",
      "180/180 [==============================] - 691s 4s/step - loss: 0.1787 - accuracy: 0.9388 - val_loss: 0.3990 - val_accuracy: 0.8936\n",
      "Epoch 50/50\n",
      "180/180 [==============================] - ETA: 0s - loss: 0.1786 - accuracy: 0.9385\n",
      "Epoch 00050: val_accuracy did not improve from 0.89380\n",
      "180/180 [==============================] - 685s 4s/step - loss: 0.1786 - accuracy: 0.9385 - val_loss: 0.3826 - val_accuracy: 0.8935\n"
     ]
    }
   ],
   "source": [
    "model2 = Sequential()\n",
    "model2.add(layers.Embedding(max_words, 40, input_length=max_len)) # Turns positive integers (indexes) into dense vectors of fixed size.\n",
    "model2.add(layers.Bidirectional(layers.LSTM(20, dropout=0.6)))\n",
    "model2.add(layers.Dense(units=3, activation='softmax'))\n",
    "model2.compile(optimizer='adam', loss='categorical_crossentropy', metrics=['accuracy'])\n",
    "\n",
    "# Implementing model checkpoins to save the best metric and do not lose it on training.\n",
    "checkpoint2 = ModelCheckpoint(\"03models_review_classification/ReviewClassification_best_model_BidirectionalLSTM.hdf5\",\n",
    "                              monitor='val_accuracy',\n",
    "                              verbose=1,\n",
    "                              save_best_only=True,\n",
    "                              mode='auto',\n",
    "                              period=1,\n",
    "                              save_weights_only=False)\n",
    "history2 = model2.fit(X_train, y_train,\n",
    "                     batch_size=500,\n",
    "                     epochs=50,\n",
    "                     validation_data=(X_test, y_test),\n",
    "                     callbacks=[checkpoint2])"
   ]
  },
  {
   "cell_type": "markdown",
   "metadata": {},
   "source": [
    "## 6 - Best model evaluation"
   ]
  },
  {
   "cell_type": "code",
   "execution_count": 24,
   "metadata": {},
   "outputs": [
    {
     "name": "stdout",
     "output_type": "stream",
     "text": [
      "313/313 - 9s - loss: 0.3824 - accuracy: 0.8938\n",
      "Model accuracy:  0.8938000202178955\n",
      "Wall time: 1min 53s\n"
     ]
    }
   ],
   "source": [
    "%%time\n",
    "# Let's load the best model obtained during training\n",
    "best_model = load_model(\"03models_review_classification/ReviewClassification_best_model_BidirectionalLSTM.hdf5\")\n",
    "\n",
    "test_loss, test_acc = best_model.evaluate(X_test, y_test, verbose=2)\n",
    "print('Model accuracy: ',test_acc)\n",
    "\n",
    "y_train_pred = best_model.predict(X_train)\n",
    "y_test_pred = best_model.predict(X_test)"
   ]
  },
  {
   "cell_type": "code",
   "execution_count": 26,
   "metadata": {},
   "outputs": [
    {
     "name": "stdout",
     "output_type": "stream",
     "text": [
      "Classification Report - Train\n",
      "Train accuracy score: 0.9530444444444445\n",
      "              precision    recall  f1-score   support\n",
      "\n",
      "           0       0.91      0.97      0.94     21065\n",
      "           1       0.90      0.62      0.74      6903\n",
      "           2       0.97      0.98      0.98     62032\n",
      "\n",
      "    accuracy                           0.95     90000\n",
      "   macro avg       0.93      0.86      0.88     90000\n",
      "weighted avg       0.95      0.95      0.95     90000\n",
      "\n",
      "Classification Report - Test\n",
      "Test accuracy score: 0.8933\n",
      "              precision    recall  f1-score   support\n",
      "\n",
      "           0       0.81      0.89      0.85      2283\n",
      "           1       0.62      0.36      0.46       803\n",
      "           2       0.94      0.96      0.95      6914\n",
      "\n",
      "    accuracy                           0.89     10000\n",
      "   macro avg       0.79      0.74      0.75     10000\n",
      "weighted avg       0.89      0.89      0.89     10000\n",
      "\n"
     ]
    }
   ],
   "source": [
    "# Classification Report\n",
    "print(\"Classification Report - Train\")\n",
    "print(\"Train accuracy score:\", metrics.accuracy_score(y_train.argmax(axis=1), np.around(y_train_pred, decimals=0).argmax(axis=1)))\n",
    "print(metrics.classification_report(y_train.argmax(axis=1), np.around(y_train_pred, decimals=0).argmax(axis=1)))\n",
    "\n",
    "print(\"Classification Report - Test\")\n",
    "print(\"Test accuracy score:\", metrics.accuracy_score(y_test.argmax(axis=1), np.around(y_test_pred, decimals=0).argmax(axis=1)))\n",
    "print(metrics.classification_report(y_test.argmax(axis=1), np.around(y_test_pred, decimals=0).argmax(axis=1)))"
   ]
  },
  {
   "cell_type": "code",
   "execution_count": 27,
   "metadata": {},
   "outputs": [
    {
     "data": {
      "text/html": [
       "<div>\n",
       "<style scoped>\n",
       "    .dataframe tbody tr th:only-of-type {\n",
       "        vertical-align: middle;\n",
       "    }\n",
       "\n",
       "    .dataframe tbody tr th {\n",
       "        vertical-align: top;\n",
       "    }\n",
       "\n",
       "    .dataframe thead th {\n",
       "        text-align: right;\n",
       "    }\n",
       "</style>\n",
       "<table border=\"1\" class=\"dataframe\">\n",
       "  <thead>\n",
       "    <tr style=\"text-align: right;\">\n",
       "      <th></th>\n",
       "      <th>Pred_Negative</th>\n",
       "      <th>Pred_Neutral</th>\n",
       "      <th>Pred_Positive</th>\n",
       "    </tr>\n",
       "  </thead>\n",
       "  <tbody>\n",
       "    <tr>\n",
       "      <th>True_Negative</th>\n",
       "      <td>2037</td>\n",
       "      <td>81</td>\n",
       "      <td>165</td>\n",
       "    </tr>\n",
       "    <tr>\n",
       "      <th>True_Neutral</th>\n",
       "      <td>256</td>\n",
       "      <td>289</td>\n",
       "      <td>258</td>\n",
       "    </tr>\n",
       "    <tr>\n",
       "      <th>True_Positive</th>\n",
       "      <td>210</td>\n",
       "      <td>97</td>\n",
       "      <td>6607</td>\n",
       "    </tr>\n",
       "  </tbody>\n",
       "</table>\n",
       "</div>"
      ],
      "text/plain": [
       "               Pred_Negative  Pred_Neutral  Pred_Positive\n",
       "True_Negative           2037            81            165\n",
       "True_Neutral             256           289            258\n",
       "True_Positive            210            97           6607"
      ]
     },
     "metadata": {},
     "output_type": "display_data"
    },
    {
     "data": {
      "image/png": "[encoded data removed]",
      "text/plain": [
       "<Figure size 360x360 with 2 Axes>"
      ]
     },
     "metadata": {
      "needs_background": "light"
     },
     "output_type": "display_data"
    }
   ],
   "source": [
    "# Create a confusion matrix\n",
    "cm_result = pd.DataFrame(metrics.confusion_matrix(y_test.argmax(axis=1), np.around(y_test_pred, decimals=0).argmax(axis=1)),\n",
    "                         index=['True_Negative', 'True_Neutral', 'True_Positive'],\n",
    "                         columns=['Pred_Negative', 'Pred_Neutral', 'Pred_Positive'])\n",
    "\n",
    "display(cm_result)\n",
    "\n",
    "plt.figure(figsize = (5,5))\n",
    "sns.heatmap(cm_result.astype('float') / cm_result.sum(axis=1).values[:, np.newaxis],\n",
    "            annot=True, fmt='g', annot_kws={\"size\": 10})\n",
    "plt.show()"
   ]
  },
  {
   "cell_type": "markdown",
   "metadata": {},
   "source": [
    "- We can see that the model has a problem to classify neutral reviews.\n",
    "- On the other hand, it is great classifing negative and positive reviews.\n",
    "- Keep in mind it hasn't gone through hyperparameter tuning."
   ]
  },
  {
   "cell_type": "markdown",
   "metadata": {},
   "source": [
    "## 7 - Let's see how it performs on some real test text"
   ]
  },
  {
   "cell_type": "code",
   "execution_count": 42,
   "metadata": {},
   "outputs": [],
   "source": [
    "# Define values for predictions\n",
    "sentiment = ['Negative', 'Neutral','Positive']"
   ]
  },
  {
   "cell_type": "code",
   "execution_count": 48,
   "metadata": {},
   "outputs": [
    {
     "data": {
      "text/plain": [
       "'Positive'"
      ]
     },
     "execution_count": 48,
     "metadata": {},
     "output_type": "execute_result"
    }
   ],
   "source": [
    "# Correct rating: 5\n",
    "input_text = [\"Love this stand. It works great on my desk. My favorite part and the reason I chose this stand over others that are smilar was the place for the charging cable. You do not have to disconnect the charger to remove this phone from the stand. The design allows you to pick up the phone from the stand with the charger still plugged in. Others do not have an open top. So you have to thread the cable through a hole so it becomes a pain to pick up and put down your phone.\"]\n",
    "input_text = tokenizer.texts_to_sequences(input_text)\n",
    "input_text = pad_sequences(input_text, maxlen=max_len)\n",
    "input_text_pred = sentiment[np.around(best_model.predict(input_text), decimals=0).argmax(axis=1)[0]]\n",
    "input_text_pred"
   ]
  },
  {
   "cell_type": "code",
   "execution_count": 57,
   "metadata": {},
   "outputs": [
    {
     "data": {
      "text/plain": [
       "'Negative'"
      ]
     },
     "execution_count": 57,
     "metadata": {},
     "output_type": "execute_result"
    }
   ],
   "source": [
    "# Correct rating: 1\n",
    "input_text = [\"Phone cracked. Was in the Jean pocket. All I did was bend my knee. Now you can't see half of screen. I do not recommend anyone purchasing this phone.\"]\n",
    "input_text = tokenizer.texts_to_sequences(input_text)\n",
    "input_text = pad_sequences(input_text, maxlen=max_len)\n",
    "input_text_pred = sentiment[np.around(best_model.predict(input_text), decimals=0).argmax(axis=1)[0]]\n",
    "input_text_pred"
   ]
  },
  {
   "cell_type": "code",
   "execution_count": 47,
   "metadata": {},
   "outputs": [
    {
     "data": {
      "text/plain": [
       "'Positive'"
      ]
     },
     "execution_count": 47,
     "metadata": {},
     "output_type": "execute_result"
    }
   ],
   "source": [
    "# Correct rating: 5\n",
    "input_text = [\"This was a gift for my wife and she LOVED IT! It's sturdy and she can avoid sunlight glare because of the angle adjustment. She uses it EVERYDAY. I ordered another one for me, OBVIOUSLY, NOT PINK. Thanks for this great\"]\n",
    "input_text = tokenizer.texts_to_sequences(input_text)\n",
    "input_text = pad_sequences(input_text, maxlen=max_len)\n",
    "input_text_pred = sentiment[np.around(best_model.predict(input_text), decimals=0).argmax(axis=1)[0]]\n",
    "input_text_pred"
   ]
  },
  {
   "cell_type": "code",
   "execution_count": 65,
   "metadata": {},
   "outputs": [
    {
     "data": {
      "text/plain": [
       "'Negative'"
      ]
     },
     "execution_count": 65,
     "metadata": {},
     "output_type": "execute_result"
    }
   ],
   "source": [
    "# Correct rating: 1\n",
    "input_text = [\"It keeps shutting on and off!!! Was very mad needed this really badly for my grandmother\"]\n",
    "input_text = tokenizer.texts_to_sequences(input_text)\n",
    "input_text = pad_sequences(input_text, maxlen=max_len)\n",
    "input_text_pred = sentiment[np.around(best_model.predict(input_text), decimals=0).argmax(axis=1)[0]]\n",
    "input_text_pred"
   ]
  },
  {
   "cell_type": "code",
   "execution_count": 74,
   "metadata": {},
   "outputs": [
    {
     "data": {
      "text/plain": [
       "'Neutral'"
      ]
     },
     "execution_count": 74,
     "metadata": {},
     "output_type": "execute_result"
    }
   ],
   "source": [
    "# Correct rating: 3\n",
    "input_text = [\"I bought my N97 from Amazon in July, but since day one it shuts down on me at least once a day. This is really annoying specially when it does not turn back on immediately. Besides this inconvenience, the N97 is really a great phone with nice features and a much easier to use touchscreen when compared to the Iphone.\"]\n",
    "input_text = tokenizer.texts_to_sequences(input_text)\n",
    "input_text = pad_sequences(input_text, maxlen=max_len)\n",
    "input_text_pred = sentiment[np.around(best_model.predict(input_text), decimals=0).argmax(axis=1)[0]]\n",
    "input_text_pred"
   ]
  },
  {
   "cell_type": "markdown",
   "metadata": {},
   "source": [
    "-----------------------"
   ]
  }
 ],
 "metadata": {
  "kernelspec": {
   "display_name": "Python 3",
   "language": "python",
   "name": "python3"
  },
  "language_info": {
   "codemirror_mode": {
    "name": "ipython",
    "version": 3
   },
   "file_extension": ".py",
   "mimetype": "text/x-python",
   "name": "python",
   "nbconvert_exporter": "python",
   "pygments_lexer": "ipython3",
   "version": "3.8.5"
  }
 },
 "nbformat": 4,
 "nbformat_minor": 4
}
