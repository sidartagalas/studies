{
 "cells": [
  {
   "cell_type": "markdown",
   "metadata": {},
   "source": [
    "# Web Scraping: FIFA 21 - Battle 8min"
   ]
  },
  {
   "cell_type": "markdown",
   "metadata": {},
   "source": [
    "**Objective:**<br />\n",
    "\n",
    "- In this notebook, I will implement all the functions required to build a Web Scraper to get esports FIFA 21 games in 8 min battles.\n",
    "\n",
    "**After this code:**<br />\n",
    "\n",
    "- I'll have a dataset with information of each FIFA 21 Battle, which are:<br />\n",
    "&nbsp;&nbsp;`data_horario`, `user_home`, `user_away`, `team_home`, `team_away`, `team_playing_home`, `team_playing_away`,<br />\n",
    "&nbsp;&nbsp;`resultado`, `Score_end_home`, `Score_end_away`, `target_class` <br />\n",
    "<br />\n",
    "- The file name is: `FIFA21_8min_history.csv`\n",
    "\n",
    "Let's get started!"
   ]
  },
  {
   "cell_type": "markdown",
   "metadata": {},
   "source": [
    "## 1 - Packages\n",
    "\n",
    "Let's first import all the packages that you will need during this code. \n",
    "- [selenium](https://www.selenium.dev/) is the most popularly used freeware and open source automation tool.\n",
    "- **os** provides a platform-independent interface to operating system functionality.\n",
    "- **time** provides various time-related functions.\n",
    "- **datetime** supplies classes for manipulating dates and times.\n",
    "- **glob** finds all the pathnames matching a specified pattern according to the rules used by the Unix shell, although results are returned in arbitrary order.\n",
    "- **random** implements pseudo-random number generators for various distributions.\n",
    "- **lxml** is the most feature-rich and easy-to-use library for processing XML and HTML in the Python language\n",
    "- **pandas** is a fast, powerful, flexible and easy to use open source data analysis and manipulation tool, built on top of the Python programming language."
   ]
  },
  {
   "cell_type": "code",
   "execution_count": 33,
   "metadata": {},
   "outputs": [],
   "source": [
    "from selenium import webdriver\n",
    "import os, time, datetime, glob\n",
    "from random import randint\n",
    "from lxml import html\n",
    "import pandas as pd"
   ]
  },
  {
   "cell_type": "code",
   "execution_count": 17,
   "metadata": {},
   "outputs": [],
   "source": [
    "# let's create a folder to receive all pages collected.\n",
    "if not os.path.exists('src'):\n",
    "    os.makedirs('src')"
   ]
  },
  {
   "cell_type": "markdown",
   "metadata": {},
   "source": [
    "## 2 - Chrome Driver"
   ]
  },
  {
   "cell_type": "code",
   "execution_count": 12,
   "metadata": {},
   "outputs": [],
   "source": [
    "# Look the version of your Google Chrome (... > Configuration > About Google Chrome) and \n",
    "# download Chrome Driver at https://sites.google.com/a/chromium.org/chromedriver/downloads\n",
    "\n",
    "## Configure Chrome WebDriver\n",
    "chrome_options = webdriver.ChromeOptions()\n",
    "chrome_options.add_argument(\"--incognito\") # Anonymous\n",
    "driver = webdriver.Chrome(r'./ChromeDrivers/chromedriver.exe', options=chrome_options)\n",
    "driver.maximize_window() # Maximize window size"
   ]
  },
  {
   "cell_type": "code",
   "execution_count": 13,
   "metadata": {},
   "outputs": [],
   "source": [
    "# Define URL to get page\n",
    "page_radical = r'https://pt.betsapi.com/le/22614/Esoccer-Battle--8-mins-play/p.'"
   ]
  },
  {
   "cell_type": "code",
   "execution_count": 14,
   "metadata": {},
   "outputs": [],
   "source": [
    "# Define radical filenames\n",
    "file_radical = r'./src/EsoccerBattle8mins'"
   ]
  },
  {
   "cell_type": "markdown",
   "metadata": {},
   "source": [
    "## 3 - Collect Pages"
   ]
  },
  {
   "cell_type": "code",
   "execution_count": 46,
   "metadata": {
    "scrolled": true
   },
   "outputs": [
    {
     "name": "stdout",
     "output_type": "stream",
     "text": [
      ">>>  https://pt.betsapi.com/le/22614/Esoccer-Battle--8-mins-play/p.1\n",
      "- Created file: ./src/EsoccerBattle8mins_00001.txt\n",
      ">>>  https://pt.betsapi.com/le/22614/Esoccer-Battle--8-mins-play/p.2\n",
      "- Created file: ./src/EsoccerBattle8mins_00002.txt\n",
      ">>>  https://pt.betsapi.com/le/22614/Esoccer-Battle--8-mins-play/p.3\n",
      "- Created file: ./src/EsoccerBattle8mins_00003.txt\n",
      ">>>  https://pt.betsapi.com/le/22614/Esoccer-Battle--8-mins-play/p.4\n",
      "- Created file: ./src/EsoccerBattle8mins_00004.txt\n",
      ">>>  https://pt.betsapi.com/le/22614/Esoccer-Battle--8-mins-play/p.5\n",
      "- Created file: ./src/EsoccerBattle8mins_00005.txt\n",
      ">>>  https://pt.betsapi.com/le/22614/Esoccer-Battle--8-mins-play/p.6\n",
      "- Created file: ./src/EsoccerBattle8mins_00006.txt\n",
      ">>>  https://pt.betsapi.com/le/22614/Esoccer-Battle--8-mins-play/p.7\n",
      "- Created file: ./src/EsoccerBattle8mins_00007.txt\n",
      ">>>  https://pt.betsapi.com/le/22614/Esoccer-Battle--8-mins-play/p.8\n",
      "- Created file: ./src/EsoccerBattle8mins_00008.txt\n",
      ">>>  https://pt.betsapi.com/le/22614/Esoccer-Battle--8-mins-play/p.9\n",
      "- Created file: ./src/EsoccerBattle8mins_00009.txt\n",
      ">>>  https://pt.betsapi.com/le/22614/Esoccer-Battle--8-mins-play/p.10\n",
      "- Created file: ./src/EsoccerBattle8mins_00010.txt\n",
      ">>>  https://pt.betsapi.com/le/22614/Esoccer-Battle--8-mins-play/p.11\n",
      "- Created file: ./src/EsoccerBattle8mins_00011.txt\n",
      ">>>  https://pt.betsapi.com/le/22614/Esoccer-Battle--8-mins-play/p.12\n",
      "- Created file: ./src/EsoccerBattle8mins_00012.txt\n",
      ">>>  https://pt.betsapi.com/le/22614/Esoccer-Battle--8-mins-play/p.13\n",
      "- Created file: ./src/EsoccerBattle8mins_00013.txt\n",
      ">>>  https://pt.betsapi.com/le/22614/Esoccer-Battle--8-mins-play/p.14\n",
      "- Created file: ./src/EsoccerBattle8mins_00014.txt\n",
      ">>>  https://pt.betsapi.com/le/22614/Esoccer-Battle--8-mins-play/p.15\n",
      "- Created file: ./src/EsoccerBattle8mins_00015.txt\n",
      ">>>  https://pt.betsapi.com/le/22614/Esoccer-Battle--8-mins-play/p.16\n",
      "- Created file: ./src/EsoccerBattle8mins_00016.txt\n",
      ">>>  https://pt.betsapi.com/le/22614/Esoccer-Battle--8-mins-play/p.17\n",
      "- Created file: ./src/EsoccerBattle8mins_00017.txt\n",
      ">>>  https://pt.betsapi.com/le/22614/Esoccer-Battle--8-mins-play/p.18\n",
      "- Created file: ./src/EsoccerBattle8mins_00018.txt\n",
      ">>>  https://pt.betsapi.com/le/22614/Esoccer-Battle--8-mins-play/p.19\n",
      "- Created file: ./src/EsoccerBattle8mins_00019.txt\n",
      ">>>  https://pt.betsapi.com/le/22614/Esoccer-Battle--8-mins-play/p.20\n",
      "- Created file: ./src/EsoccerBattle8mins_00020.txt\n"
     ]
    }
   ],
   "source": [
    "# Collecting 20 pages of games\n",
    "num_collect_pages = 20## 2 - Chrome Driver\n",
    "for num_page in list(range(1,num_collect_pages+1,1)):\n",
    "    url_page = page_radical+str(num_page)\n",
    "    print('>>> ', url_page)\n",
    "    \n",
    "    driver.get(url_page)\n",
    "    tempo_espera = randint(5, 11)\n",
    "    time.sleep(tempo_espera)\n",
    "    \n",
    "    with open('{}_{:0>5d}.txt'.format(file_radical, num_page), \"w\", encoding='utf-8-sig') as text_file:\n",
    "        text_file.write(driver.page_source)\n",
    "    print('-', 'Created file: {}_{:0>5d}.txt'.format(file_radical, num_page))"
   ]
  },
  {
   "cell_type": "markdown",
   "metadata": {},
   "source": [
    "## 4 - Parsing HTML"
   ]
  },
  {
   "cell_type": "code",
   "execution_count": 47,
   "metadata": {},
   "outputs": [
    {
     "name": "stdout",
     "output_type": "stream",
     "text": [
      ">>>> Arquivo trabalhado: ./src\\EsoccerBattle8mins_00020.txt\r",
      ">>>> Arquivo trabalhado: ./src\\EsoccerBattle8mins_00020.txt  (31)\n",
      ">>>> Arquivo trabalhado: ./src\\EsoccerBattle8mins_00019.txt\r",
      ">>>> Arquivo trabalhado: ./src\\EsoccerBattle8mins_00019.txt  (31)\n",
      ">>>> Arquivo trabalhado: ./src\\EsoccerBattle8mins_00018.txt\r",
      ">>>> Arquivo trabalhado: ./src\\EsoccerBattle8mins_00018.txt  (31)\n",
      ">>>> Arquivo trabalhado: ./src\\EsoccerBattle8mins_00017.txt\r",
      ">>>> Arquivo trabalhado: ./src\\EsoccerBattle8mins_00017.txt  (31)\n",
      ">>>> Arquivo trabalhado: ./src\\EsoccerBattle8mins_00016.txt\r",
      ">>>> Arquivo trabalhado: ./src\\EsoccerBattle8mins_00016.txt  (31)\n",
      ">>>> Arquivo trabalhado: ./src\\EsoccerBattle8mins_00015.txt\r",
      ">>>> Arquivo trabalhado: ./src\\EsoccerBattle8mins_00015.txt  (26)\n",
      ">>>> Arquivo trabalhado: ./src\\EsoccerBattle8mins_00014.txt\r",
      ">>>> Arquivo trabalhado: ./src\\EsoccerBattle8mins_00014.txt  (26)\n",
      ">>>> Arquivo trabalhado: ./src\\EsoccerBattle8mins_00013.txt\r",
      ">>>> Arquivo trabalhado: ./src\\EsoccerBattle8mins_00013.txt  (30)\n",
      ">>>> Arquivo trabalhado: ./src\\EsoccerBattle8mins_00012.txt\r",
      ">>>> Arquivo trabalhado: ./src\\EsoccerBattle8mins_00012.txt  (31)\n",
      ">>>> Arquivo trabalhado: ./src\\EsoccerBattle8mins_00011.txt\r",
      ">>>> Arquivo trabalhado: ./src\\EsoccerBattle8mins_00011.txt  (31)\n",
      ">>>> Arquivo trabalhado: ./src\\EsoccerBattle8mins_00010.txt\r",
      ">>>> Arquivo trabalhado: ./src\\EsoccerBattle8mins_00010.txt  (31)\n",
      ">>>> Arquivo trabalhado: ./src\\EsoccerBattle8mins_00009.txt\r",
      ">>>> Arquivo trabalhado: ./src\\EsoccerBattle8mins_00009.txt  (31)\n",
      ">>>> Arquivo trabalhado: ./src\\EsoccerBattle8mins_00008.txt\r",
      ">>>> Arquivo trabalhado: ./src\\EsoccerBattle8mins_00008.txt  (31)\n",
      ">>>> Arquivo trabalhado: ./src\\EsoccerBattle8mins_00007.txt\r",
      ">>>> Arquivo trabalhado: ./src\\EsoccerBattle8mins_00007.txt  (31)\n",
      ">>>> Arquivo trabalhado: ./src\\EsoccerBattle8mins_00006.txt\r",
      ">>>> Arquivo trabalhado: ./src\\EsoccerBattle8mins_00006.txt  (31)\n",
      ">>>> Arquivo trabalhado: ./src\\EsoccerBattle8mins_00005.txt\r",
      ">>>> Arquivo trabalhado: ./src\\EsoccerBattle8mins_00005.txt  (31)\n",
      ">>>> Arquivo trabalhado: ./src\\EsoccerBattle8mins_00004.txt\r",
      ">>>> Arquivo trabalhado: ./src\\EsoccerBattle8mins_00004.txt  (24)\n",
      ">>>> Arquivo trabalhado: ./src\\EsoccerBattle8mins_00003.txt\r",
      ">>>> Arquivo trabalhado: ./src\\EsoccerBattle8mins_00003.txt  (28)\n",
      ">>>> Arquivo trabalhado: ./src\\EsoccerBattle8mins_00002.txt\r",
      ">>>> Arquivo trabalhado: ./src\\EsoccerBattle8mins_00002.txt  (19)\n",
      ">>>> Arquivo trabalhado: ./src\\EsoccerBattle8mins_00001.txt\r",
      ">>>> Arquivo trabalhado: ./src\\EsoccerBattle8mins_00001.txt  (24)\n"
     ]
    }
   ],
   "source": [
    "# Actual year\n",
    "ano_atual = 2021\n",
    "\n",
    "# Verify if the month is January\n",
    "em_janeiro = False\n",
    "\n",
    "# Getting all files in the folder and invert the order to finish proccess with the most recent file\n",
    "list_of_files = sorted(glob.glob('./src/*.txt'), reverse=True)\n",
    "\n",
    "start_process_time = datetime.datetime.now()\n",
    "dados_files, dados_geral = [], []\n",
    "for filepath in list_of_files[:## 3 - Collect Pages]:\n",
    "    print('>>>> Arquivo trabalhado: {}'.format(filepath), end='')\n",
    "    \n",
    "    # Import .TXT file\n",
    "    with open(filepath,'r', encoding='latin-1') as fileobj:\n",
    "        arquivo_html = fileobj.read().replace('\\n','')\n",
    "        \n",
    "    # Convert .TXT to HTML type\n",
    "    fileHTML = html.fromstring(arquivo_html)\n",
    "    \n",
    "    # Find games table\n",
    "    tabela_jogos = fileHTML.xpath('//*[@class=\"table table-sm\"]/tbody')[0]\n",
    "    linhas_tabela_jogos = tabela_jogos.xpath(\"//tr\")[1:] # Remove header from list\n",
    "    \n",
    "    # Getting into table and collect each game information\n",
    "    cont = 1 # Counting games \n",
    "    for row in linhas_tabela_jogos[:]:\n",
    "\n",
    "        dt_game = row[0].text_content().strip() # Collect date\n",
    "        if (int(dt_game[:2]) == 1): # Verify if it is january or not\n",
    "            em_janeiro = True\n",
    "            \n",
    "        if (em_janeiro == True) & (int(dt_game[:2]) != 1): # Change the year\n",
    "            ano_atual = ano_atual-1\n",
    "            em_janeiro = False\n",
    "            \n",
    "        # Build date in correct format\n",
    "        data_horario = '{:0>2d}/{:0>2d}/{:0>4d} {}'.format(int(dt_game[3:5]),int(dt_game[:2]),ano_atual,dt_game[6:])\n",
    "\n",
    "        # Collect both teams in the game\n",
    "        team_home, team_away = row[2].text_content().strip().split(' v ')\n",
    "        \n",
    "        # Collect, from the team name, the user name for each team\n",
    "        user_home = team_home[team_home.find(\"(\")+1:team_home.find(\")\")].strip()\n",
    "        user_away = team_away[team_away.find(\"(\")+1:team_away.find(\")\")].strip()\n",
    "        \n",
    "        # Collect the score result\n",
    "        resultado = row[3].text_content().strip()\n",
    "        \n",
    "        # Verify what happened to the game: 'Cancelled','View','Postponed','Interrupted','Abandoned'\n",
    "        # If it happened one of those options, move to the next game\n",
    "        if any(item in ['Cancelled','View','Postponed','Interrupted','Abandoned'] for item in [resultado]):\n",
    "            continue\n",
    "\n",
    "        # Calculate target (who won the game or draw)\n",
    "        Score_end_home, Score_end_away = row[3].text_content().strip().split('-')\n",
    "        if (Score_end_home > Score_end_away): # Home Win\n",
    "            target_class = 1\n",
    "        elif (Score_end_home < Score_end_away): # Away Win\n",
    "            target_class = 2\n",
    "        elif (Score_end_home == Score_end_away): # Draw\n",
    "            target_class = 0\n",
    "            \n",
    "        # Build a list with all information for dataset\n",
    "        linha_coletada = [data_horario, user_home, user_away, team_home, team_away,\n",
    "                          resultado, Score_end_home, Score_end_away, target_class]\n",
    "        \n",
    "        # Appending each line to build a \"Full Dataset\"\n",
    "        dados_files.append(linha_coletada)\n",
    "        cont += 1 # Incrementing counting games\n",
    "        \n",
    "    print('\\r>>>> Arquivo trabalhado: {}  ({})'.format(filepath, cont))\n",
    "    \n",
    "# Convert all lines into DataFrame\n",
    "df = pd.DataFrame(dados_files, columns=['data_horario',\n",
    "                                        'user_home', 'user_away',\n",
    "                                        'team_home', 'team_away', 'resultado',\n",
    "                                        'Score_end_home', 'Score_end_away',\n",
    "                                        'target_class'])"
   ]
  },
  {
   "cell_type": "code",
   "execution_count": 7,
   "metadata": {},
   "outputs": [],
   "source": [
    "# Close and Quit ChromeDriver\n",
    "driver.close(); driver.quit()"
   ]
  },
  {
   "cell_type": "markdown",
   "metadata": {},
   "source": [
    "## 5 - Data cleaning"
   ]
  },
  {
   "cell_type": "code",
   "execution_count": null,
   "metadata": {},
   "outputs": [],
   "source": [
    "# Convert Data into Datetime format\n",
    "df['data_horario'] = pd.to_datetime(df['data_horario'], format='%d/%m/%Y %H:%M')\n",
    "df['data_horario'] = (df['data_horario'] - datetime.timedelta(hours=1, minutes=0)) # Adjusting to BRA timezone\n",
    "\n",
    "# Standardizing uppercase text (User name)\n",
    "df['user_home'] = df['user_home'].str.upper()\n",
    "df['user_away'] = df['user_away'].str.upper()\n",
    "df['team_home'] = df['team_home'].str.upper()\n",
    "df['team_away'] = df['team_away'].str.upper()\n",
    "\n",
    "# Collecting the real team name (without User)\n",
    "df['team_playing_home'] = df['team_home'].str.split('(').map(lambda x: x[0].strip()) # \n",
    "df['team_playing_away'] = df['team_away'].str.split('(').map(lambda x: x[0].strip())\n",
    "\n",
    "# Rebuilding Teams name \n",
    "df['team_home'] = df['team_playing_home'] + ' (' + df['user_home'] + ') ' + 'ESPORTS' \n",
    "df['team_away'] = df['team_playing_away'] + ' (' + df['user_away'] + ') ' + 'ESPORTS'\n",
    "\n",
    "# Ordering data by date\n",
    "df = df.sort_values(by=['data_horario']).reset_index(drop=True)"
   ]
  },
  {
   "cell_type": "markdown",
   "metadata": {},
   "source": [
    "## 6 - Output File"
   ]
  },
  {
   "cell_type": "code",
   "execution_count": 52,
   "metadata": {},
   "outputs": [
    {
     "name": "stdout",
     "output_type": "stream",
     "text": [
      "Wall time: 27.1 ms\n"
     ]
    }
   ],
   "source": [
    "%time df.to_csv('./FIFA21_8min_history.csv', sep=';', decimal=',', encoding='utf-8-sig', index=False)"
   ]
  },
  {
   "cell_type": "code",
   "execution_count": 49,
   "metadata": {},
   "outputs": [
    {
     "name": "stdout",
     "output_type": "stream",
     "text": [
      "<class 'pandas.core.frame.DataFrame'>\n",
      "RangeIndex: 560 entries, 0 to 559\n",
      "Data columns (total 11 columns):\n",
      " #   Column             Non-Null Count  Dtype         \n",
      "---  ------             --------------  -----         \n",
      " 0   data_horario       560 non-null    datetime64[ns]\n",
      " 1   user_home          560 non-null    object        \n",
      " 2   user_away          560 non-null    object        \n",
      " 3   team_home          560 non-null    object        \n",
      " 4   team_away          560 non-null    object        \n",
      " 5   resultado          560 non-null    object        \n",
      " 6   Score_end_home     560 non-null    object        \n",
      " 7   Score_end_away     560 non-null    object        \n",
      " 8   target_class       560 non-null    int64         \n",
      " 9   team_playing_home  560 non-null    object        \n",
      " 10  team_playing_away  560 non-null    object        \n",
      "dtypes: datetime64[ns](1), int64(1), object(9)\n",
      "memory usage: 48.2+ KB\n"
     ]
    }
   ],
   "source": [
    "df.info()"
   ]
  },
  {
   "cell_type": "code",
   "execution_count": 48,
   "metadata": {},
   "outputs": [
    {
     "data": {
      "text/html": [
       "<div>\n",
       "<style scoped>\n",
       "    .dataframe tbody tr th:only-of-type {\n",
       "        vertical-align: middle;\n",
       "    }\n",
       "\n",
       "    .dataframe tbody tr th {\n",
       "        vertical-align: top;\n",
       "    }\n",
       "\n",
       "    .dataframe thead th {\n",
       "        text-align: right;\n",
       "    }\n",
       "</style>\n",
       "<table border=\"1\" class=\"dataframe\">\n",
       "  <thead>\n",
       "    <tr style=\"text-align: right;\">\n",
       "      <th></th>\n",
       "      <th>data_horario</th>\n",
       "      <th>user_home</th>\n",
       "      <th>user_away</th>\n",
       "      <th>team_home</th>\n",
       "      <th>team_away</th>\n",
       "      <th>resultado</th>\n",
       "      <th>Score_end_home</th>\n",
       "      <th>Score_end_away</th>\n",
       "      <th>target_class</th>\n",
       "      <th>team_playing_home</th>\n",
       "      <th>team_playing_away</th>\n",
       "    </tr>\n",
       "  </thead>\n",
       "  <tbody>\n",
       "    <tr>\n",
       "      <th>555</th>\n",
       "      <td>2021-03-07 22:34:00</td>\n",
       "      <td>JKEY</td>\n",
       "      <td>HOTSHOT</td>\n",
       "      <td>ATLETICO MADRID (JKEY) ESPORTS</td>\n",
       "      <td>CHELSEA (HOTSHOT) ESPORTS</td>\n",
       "      <td>2-1</td>\n",
       "      <td>2</td>\n",
       "      <td>1</td>\n",
       "      <td>1</td>\n",
       "      <td>ATLETICO MADRID</td>\n",
       "      <td>CHELSEA</td>\n",
       "    </tr>\n",
       "    <tr>\n",
       "      <th>556</th>\n",
       "      <td>2021-03-07 22:34:00</td>\n",
       "      <td>VRICO</td>\n",
       "      <td>ARCOS</td>\n",
       "      <td>MAN CITY (VRICO) ESPORTS</td>\n",
       "      <td>DORTMUND (ARCOS) ESPORTS</td>\n",
       "      <td>0-0</td>\n",
       "      <td>0</td>\n",
       "      <td>0</td>\n",
       "      <td>0</td>\n",
       "      <td>MAN CITY</td>\n",
       "      <td>DORTMUND</td>\n",
       "    </tr>\n",
       "    <tr>\n",
       "      <th>557</th>\n",
       "      <td>2021-03-07 22:46:00</td>\n",
       "      <td>HOTSHOT</td>\n",
       "      <td>VRICO</td>\n",
       "      <td>CHELSEA (HOTSHOT) ESPORTS</td>\n",
       "      <td>MAN CITY (VRICO) ESPORTS</td>\n",
       "      <td>1-0</td>\n",
       "      <td>1</td>\n",
       "      <td>0</td>\n",
       "      <td>1</td>\n",
       "      <td>CHELSEA</td>\n",
       "      <td>MAN CITY</td>\n",
       "    </tr>\n",
       "    <tr>\n",
       "      <th>558</th>\n",
       "      <td>2021-03-07 22:58:00</td>\n",
       "      <td>VRICO</td>\n",
       "      <td>JKEY</td>\n",
       "      <td>MAN CITY (VRICO) ESPORTS</td>\n",
       "      <td>ATLETICO MADRID (JKEY) ESPORTS</td>\n",
       "      <td>1-1</td>\n",
       "      <td>1</td>\n",
       "      <td>1</td>\n",
       "      <td>0</td>\n",
       "      <td>MAN CITY</td>\n",
       "      <td>ATLETICO MADRID</td>\n",
       "    </tr>\n",
       "    <tr>\n",
       "      <th>559</th>\n",
       "      <td>2021-03-07 23:10:00</td>\n",
       "      <td>ARCOS</td>\n",
       "      <td>HOTSHOT</td>\n",
       "      <td>DORTMUND (ARCOS) ESPORTS</td>\n",
       "      <td>CHELSEA (HOTSHOT) ESPORTS</td>\n",
       "      <td>2-3</td>\n",
       "      <td>2</td>\n",
       "      <td>3</td>\n",
       "      <td>2</td>\n",
       "      <td>DORTMUND</td>\n",
       "      <td>CHELSEA</td>\n",
       "    </tr>\n",
       "  </tbody>\n",
       "</table>\n",
       "</div>"
      ],
      "text/plain": [
       "           data_horario user_home user_away                       team_home  \\\n",
       "555 2021-03-07 22:34:00      JKEY   HOTSHOT  ATLETICO MADRID (JKEY) ESPORTS   \n",
       "556 2021-03-07 22:34:00     VRICO     ARCOS        MAN CITY (VRICO) ESPORTS   \n",
       "557 2021-03-07 22:46:00   HOTSHOT     VRICO       CHELSEA (HOTSHOT) ESPORTS   \n",
       "558 2021-03-07 22:58:00     VRICO      JKEY        MAN CITY (VRICO) ESPORTS   \n",
       "559 2021-03-07 23:10:00     ARCOS   HOTSHOT        DORTMUND (ARCOS) ESPORTS   \n",
       "\n",
       "                          team_away resultado Score_end_home Score_end_away  \\\n",
       "555       CHELSEA (HOTSHOT) ESPORTS       2-1              2              1   \n",
       "556        DORTMUND (ARCOS) ESPORTS       0-0              0              0   \n",
       "557        MAN CITY (VRICO) ESPORTS       1-0              1              0   \n",
       "558  ATLETICO MADRID (JKEY) ESPORTS       1-1              1              1   \n",
       "559       CHELSEA (HOTSHOT) ESPORTS       2-3              2              3   \n",
       "\n",
       "     target_class team_playing_home team_playing_away  \n",
       "555             1   ATLETICO MADRID           CHELSEA  \n",
       "556             0          MAN CITY          DORTMUND  \n",
       "557             1           CHELSEA          MAN CITY  \n",
       "558             0          MAN CITY   ATLETICO MADRID  \n",
       "559             2          DORTMUND           CHELSEA  "
      ]
     },
     "execution_count": 48,
     "metadata": {},
     "output_type": "execute_result"
    }
   ],
   "source": [
    "# End of file\n",
    "df.tail()"
   ]
  },
  {
   "cell_type": "markdown",
   "metadata": {},
   "source": [
    "------------------"
   ]
  }
 ],
 "metadata": {
  "kernelspec": {
   "display_name": "Python 3",
   "language": "python",
   "name": "python3"
  },
  "language_info": {
   "codemirror_mode": {
    "name": "ipython",
    "version": 3
   },
   "file_extension": ".py",
   "mimetype": "text/x-python",
   "name": "python",
   "nbconvert_exporter": "python",
   "pygments_lexer": "ipython3",
   "version": "3.8.5"
  }
 },
 "nbformat": 4,
 "nbformat_minor": 4
}
